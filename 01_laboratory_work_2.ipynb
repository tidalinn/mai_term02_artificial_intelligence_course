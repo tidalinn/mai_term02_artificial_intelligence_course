{
 "cells": [
  {
   "cell_type": "markdown",
   "id": "b23ed780",
   "metadata": {},
   "source": [
    "<h1>Содержание<span class=\"tocSkip\"></span></h1>\n",
    "<br>\n",
    "<div class=\"toc\">\n",
    "    <ul class=\"toc-item\">\n",
    "        <li>\n",
    "            <span>\n",
    "                <a href=\"#1-Подготовка-окружения\">\n",
    "                    <span class=\"toc-item-num\">1&nbsp;&nbsp;</span>\n",
    "                    Подготовка окружения\n",
    "                </a>\n",
    "            </span>\n",
    "        </li>\n",
    "        <li>\n",
    "            <span>\n",
    "                <a href=\"#2-Загрузка-данных\">\n",
    "                    <span class=\"toc-item-num\">2&nbsp;&nbsp;</span>\n",
    "                    Загрузка данных\n",
    "                </a>\n",
    "            </span>\n",
    "        </li>\n",
    "        <li>\n",
    "            <span>\n",
    "                <a href=\"#3-Embedding-над-изображениями\">\n",
    "                    <span class=\"toc-item-num\">3&nbsp;&nbsp;</span>\n",
    "                    Embedding над изображениями\n",
    "                </a>\n",
    "            </span>\n",
    "        </li>\n",
    "        <li>\n",
    "            <span>\n",
    "                <a href=\"#4-Общий-вывод\">\n",
    "                    <span class=\"toc-item-num\">4&nbsp;&nbsp;</span>\n",
    "                    Общий вывод\n",
    "                </a>\n",
    "            </span>\n",
    "        </li>\n",
    "    </ul>\n",
    "</div>"
   ]
  },
  {
   "cell_type": "markdown",
   "id": "4ed3b471",
   "metadata": {},
   "source": [
    "# Лабораторная работа № 1: Embedding над изображениями"
   ]
  },
  {
   "cell_type": "markdown",
   "id": "b0d05209",
   "metadata": {},
   "source": [
    "**Задача:** проработать задачи с применением Embedding к изображениям:\n",
    "\n",
    "1. Построить Embedding над изображениями (приложить к изображениям, чтобы каждой соответствовал вектор - применить в любом виде KNN для формирования датасета из векторов).\n",
    "2. Подать на вход обученной на изображениях модели свои изображения.\n",
    "\n",
    "**Источник данных:** [food-11 Image Classification Dataset](https://www.kaggle.com/datasets/imbikramsaha/food11?resource=download)\n",
    "\n",
    "**Описание данных:** фотографии еды с 11ю категориями (мини-версия датасета food-101)"
   ]
  },
  {
   "cell_type": "markdown",
   "id": "7d60304b",
   "metadata": {},
   "source": [
    "---"
   ]
  },
  {
   "cell_type": "markdown",
   "id": "b9514493",
   "metadata": {},
   "source": [
    "# Реализации"
   ]
  },
  {
   "cell_type": "markdown",
   "id": "49554e1b",
   "metadata": {},
   "source": [
    "1. [Метрические алгоритмы](01_laboratory_work_1.ipynb)\n",
    "2. Embedding над изображениями (текущий файл)"
   ]
  },
  {
   "cell_type": "markdown",
   "id": "b72e4342",
   "metadata": {},
   "source": [
    "<div style=\"background-color: blue; height: 2px; margin: 10px 0;\"></div>"
   ]
  },
  {
   "cell_type": "markdown",
   "id": "8d07d573",
   "metadata": {},
   "source": [
    "## 1 Подготовка окружения"
   ]
  },
  {
   "cell_type": "markdown",
   "id": "7ec8a88c",
   "metadata": {},
   "source": [
    "Установка необходимых библиотек:"
   ]
  },
  {
   "cell_type": "code",
   "execution_count": 1,
   "id": "41f0136f",
   "metadata": {},
   "outputs": [],
   "source": [
    "%%capture no-display\n",
    "!pip install kaggle"
   ]
  },
  {
   "cell_type": "markdown",
   "id": "4fc714b3",
   "metadata": {},
   "source": [
    "Импорт необходимых библиотек:"
   ]
  },
  {
   "cell_type": "code",
   "execution_count": 2,
   "id": "fec4e90c",
   "metadata": {},
   "outputs": [],
   "source": [
    "import numpy as np\n",
    "import pandas as pd\n",
    "\n",
    "from typing import List\n",
    "import os\n",
    "import kaggle\n",
    "import zipfile as zf\n",
    "from zipfile import ZipFile\n",
    "\n",
    "from utils.plot_charts import plot_random_image\n",
    "from utils.useful_funcs import walk_through_dir"
   ]
  },
  {
   "cell_type": "markdown",
   "id": "7a1eb594",
   "metadata": {},
   "source": [
    "Фиксация случайных величин:"
   ]
  },
  {
   "cell_type": "code",
   "execution_count": 4,
   "id": "0c8ea19b",
   "metadata": {},
   "outputs": [],
   "source": [
    "SEED = 42\n",
    "\n",
    "np.random.seed(SEED)"
   ]
  },
  {
   "cell_type": "markdown",
   "id": "5d8658e3",
   "metadata": {},
   "source": [
    "<div style=\"background-color: blue; height: 2px; margin: 10px 0;\"></div>"
   ]
  },
  {
   "cell_type": "markdown",
   "id": "b57e5553",
   "metadata": {},
   "source": [
    "## 2 Загрузка данных"
   ]
  },
  {
   "cell_type": "markdown",
   "id": "7f0ad576",
   "metadata": {},
   "source": [
    "Добавление папки с наборами данных:"
   ]
  },
  {
   "cell_type": "code",
   "execution_count": null,
   "id": "37a29fb2",
   "metadata": {},
   "outputs": [],
   "source": [
    "if os.path.isdir('data') == False:\n",
    "    os.mkdir('data')"
   ]
  },
  {
   "cell_type": "markdown",
   "id": "6ffffa07",
   "metadata": {},
   "source": [
    "Скачивание набора данных:"
   ]
  },
  {
   "cell_type": "code",
   "execution_count": null,
   "id": "c3e71d5b",
   "metadata": {},
   "outputs": [],
   "source": [
    "if os.path.isdir('data/food11') == False:\n",
    "    os.chdir('data/')\n",
    "    \n",
    "    !kaggle datasets download -d imbikramsaha/food11\n",
    "    \n",
    "    with zf.ZipFile('food11.zip', 'r') as file:\n",
    "        file.extractall('.')\n",
    "        \n",
    "    os.remove('food11.zip')\n",
    "    \n",
    "    os.chdir('..')"
   ]
  },
  {
   "cell_type": "markdown",
   "id": "d1c82195",
   "metadata": {},
   "source": [
    "Задание путей до тренировочного и тестового набора данных:"
   ]
  },
  {
   "cell_type": "code",
   "execution_count": null,
   "id": "064eeebb",
   "metadata": {},
   "outputs": [],
   "source": [
    "path_data = 'data/food11/'\n",
    "path_train = path_data + 'train/'\n",
    "path_test = path_data + 'test/'"
   ]
  },
  {
   "cell_type": "markdown",
   "id": "7e5630f4",
   "metadata": {},
   "source": [
    "Выведение на экран изображения и его параметров:"
   ]
  },
  {
   "cell_type": "code",
   "execution_count": null,
   "id": "dfb46a76",
   "metadata": {},
   "outputs": [],
   "source": [
    "plot_random_image(path_train, depth='*/*')"
   ]
  },
  {
   "cell_type": "markdown",
   "id": "3ce6e737",
   "metadata": {},
   "source": []
  },
  {
   "cell_type": "code",
   "execution_count": null,
   "id": "7c49f60a",
   "metadata": {},
   "outputs": [],
   "source": [
    "walk_through_dir(path_data)"
   ]
  },
  {
   "cell_type": "code",
   "execution_count": null,
   "id": "22dd3e10",
   "metadata": {},
   "outputs": [],
   "source": []
  },
  {
   "cell_type": "code",
   "execution_count": null,
   "id": "5a48c442",
   "metadata": {},
   "outputs": [],
   "source": [
    "!pip install mediapipe"
   ]
  },
  {
   "cell_type": "code",
   "execution_count": null,
   "id": "3abb8bba",
   "metadata": {},
   "outputs": [],
   "source": [
    "model_path = 'models/absolute/path/to/mobilenet_v3_small_075_224_embedder.tflite'"
   ]
  },
  {
   "cell_type": "code",
   "execution_count": null,
   "id": "a4602976",
   "metadata": {},
   "outputs": [],
   "source": [
    "import mediapipe as mp"
   ]
  },
  {
   "cell_type": "code",
   "execution_count": null,
   "id": "69a13170",
   "metadata": {},
   "outputs": [],
   "source": [
    "BaseOptions = mp.tasks.BaseOptions\n",
    "ImageEmbedder = mp.tasks.vision.ImageEmbedder\n",
    "ImageEmbedderOptions = mp.tasks.vision.ImageEmbedderOptions\n",
    "VisionRunningMode = mp.tasks.vision.RunningMode"
   ]
  },
  {
   "cell_type": "code",
   "execution_count": null,
   "id": "91e66086",
   "metadata": {},
   "outputs": [],
   "source": [
    "options = ImageEmbedderOptions(\n",
    "    base_options=BaseOptions(model_asset_path=model_path),\n",
    "    quantize=True,\n",
    "    running_mode=VisionRunningMode.IMAGE)"
   ]
  },
  {
   "cell_type": "code",
   "execution_count": null,
   "id": "a7ac04f5",
   "metadata": {},
   "outputs": [],
   "source": [
    "with ImageEmbedder.create_from_options(options) as embedder:\n",
    "  # The embedder is initialized. Use it here.\n",
    "  # ..."
   ]
  },
  {
   "cell_type": "code",
   "execution_count": null,
   "id": "2e9821ff",
   "metadata": {},
   "outputs": [],
   "source": []
  },
  {
   "cell_type": "markdown",
   "id": "5137c386",
   "metadata": {},
   "source": [
    "## 3 Embedding над изображениями"
   ]
  },
  {
   "cell_type": "code",
   "execution_count": null,
   "id": "bcb70619",
   "metadata": {},
   "outputs": [],
   "source": []
  },
  {
   "cell_type": "code",
   "execution_count": null,
   "id": "2f530c61",
   "metadata": {},
   "outputs": [],
   "source": []
  },
  {
   "cell_type": "code",
   "execution_count": null,
   "id": "a6d3ca95",
   "metadata": {},
   "outputs": [],
   "source": []
  },
  {
   "cell_type": "code",
   "execution_count": null,
   "id": "cda576f4",
   "metadata": {},
   "outputs": [],
   "source": []
  },
  {
   "cell_type": "code",
   "execution_count": null,
   "id": "7914722d",
   "metadata": {},
   "outputs": [],
   "source": [
    "model = timm.create_model(\"resnet18\", pretrained=True)\n",
    "model = model.eval()\n",
    "X_image = []\n",
    "Y_image = []"
   ]
  },
  {
   "cell_type": "code",
   "execution_count": null,
   "id": "12c4d491",
   "metadata": {},
   "outputs": [],
   "source": [
    "val_transforms = A.Compose(\n",
    "    [\n",
    "        A.Resize(224, 224),\n",
    "        A.Normalize(mean=(0.485, 0.456, 0.406), std=(0.229, 0.224, 0.225)),\n",
    "        Ap.transforms.ToTensorV2(),\n",
    "    ]\n",
    ")"
   ]
  },
  {
   "cell_type": "code",
   "execution_count": null,
   "id": "11892232",
   "metadata": {},
   "outputs": [],
   "source": [
    "for i, c in enumerate(clas):\n",
    "    for j in os.listdir(data_sors + \"/\" + c):\n",
    "        try:\n",
    "            image = Image.open(os.path.join(data_sors, c, j))\n",
    "            image = val_transforms(image=np.array(image))[\"image\"]\n",
    "            X_image.append(model(image.unsqueeze(0)).detach().numpy()[0])\n",
    "            Y_image.append(i)\n",
    "        except:\n",
    "            print(os.path.join(data_sors, c, j))"
   ]
  },
  {
   "cell_type": "code",
   "execution_count": null,
   "id": "22c0c5a6",
   "metadata": {},
   "outputs": [],
   "source": []
  },
  {
   "cell_type": "code",
   "execution_count": null,
   "id": "c94ea205",
   "metadata": {},
   "outputs": [],
   "source": []
  },
  {
   "cell_type": "code",
   "execution_count": null,
   "id": "d12c75c0",
   "metadata": {},
   "outputs": [],
   "source": []
  },
  {
   "cell_type": "code",
   "execution_count": null,
   "id": "9d1f3b7b",
   "metadata": {},
   "outputs": [],
   "source": []
  },
  {
   "cell_type": "code",
   "execution_count": null,
   "id": "1b67c3b0",
   "metadata": {},
   "outputs": [],
   "source": []
  },
  {
   "cell_type": "markdown",
   "id": "45e601fc",
   "metadata": {},
   "source": [
    "---"
   ]
  },
  {
   "cell_type": "markdown",
   "id": "7d84af81",
   "metadata": {},
   "source": [
    "### 6.2 Тестирование модели"
   ]
  },
  {
   "cell_type": "markdown",
   "id": "54ec6c80",
   "metadata": {},
   "source": [
    "Проверить на собственных фото"
   ]
  },
  {
   "cell_type": "code",
   "execution_count": null,
   "id": "3e1edede",
   "metadata": {},
   "outputs": [],
   "source": []
  },
  {
   "cell_type": "code",
   "execution_count": null,
   "id": "b0557c9d",
   "metadata": {},
   "outputs": [],
   "source": []
  },
  {
   "cell_type": "code",
   "execution_count": null,
   "id": "5cdb7a53",
   "metadata": {},
   "outputs": [],
   "source": []
  },
  {
   "cell_type": "code",
   "execution_count": null,
   "id": "746d86c6",
   "metadata": {},
   "outputs": [],
   "source": []
  },
  {
   "cell_type": "code",
   "execution_count": null,
   "id": "b89fc10c",
   "metadata": {},
   "outputs": [],
   "source": []
  },
  {
   "cell_type": "code",
   "execution_count": null,
   "id": "b8e9156f",
   "metadata": {},
   "outputs": [],
   "source": []
  },
  {
   "cell_type": "code",
   "execution_count": null,
   "id": "55458e25",
   "metadata": {},
   "outputs": [],
   "source": []
  },
  {
   "cell_type": "code",
   "execution_count": null,
   "id": "a2f6096f",
   "metadata": {},
   "outputs": [],
   "source": []
  },
  {
   "cell_type": "code",
   "execution_count": null,
   "id": "179817f2",
   "metadata": {},
   "outputs": [],
   "source": []
  },
  {
   "cell_type": "code",
   "execution_count": null,
   "id": "8fbb282b",
   "metadata": {},
   "outputs": [],
   "source": []
  },
  {
   "cell_type": "code",
   "execution_count": null,
   "id": "8641d021",
   "metadata": {},
   "outputs": [],
   "source": []
  },
  {
   "cell_type": "code",
   "execution_count": null,
   "id": "55f02fc9",
   "metadata": {},
   "outputs": [],
   "source": []
  },
  {
   "cell_type": "code",
   "execution_count": null,
   "id": "4f3162c4",
   "metadata": {},
   "outputs": [],
   "source": []
  },
  {
   "cell_type": "markdown",
   "id": "5dcd7d25",
   "metadata": {},
   "source": [
    "<div style=\"background-color: blue; height: 2px; margin: 10px 0;\"></div>"
   ]
  },
  {
   "cell_type": "markdown",
   "id": "01ffa171",
   "metadata": {},
   "source": [
    "## 4 Общий вывод"
   ]
  },
  {
   "cell_type": "markdown",
   "id": "e8b51811",
   "metadata": {},
   "source": []
  },
  {
   "cell_type": "markdown",
   "id": "f4cf31fe",
   "metadata": {},
   "source": [
    "<div style=\"text-align: center; font-size: 20px; padding: 15px 0;\">\n",
    "    <a href=\"#Содержание\" data-toc-modified-id=\"Содержание\" style=\"text-decoration: none; color: #296eaa; border: 2px dashed #296eaa; opacity: 0.8; border-radius: 3px; padding: 10px 80px;\">\n",
    "        В начало файла ↑\n",
    "    </a>\n",
    "</div>"
   ]
  }
 ],
 "metadata": {
  "kernelspec": {
   "display_name": "Python 3 (ipykernel)",
   "language": "python",
   "name": "python3"
  },
  "language_info": {
   "codemirror_mode": {
    "name": "ipython",
    "version": 3
   },
   "file_extension": ".py",
   "mimetype": "text/x-python",
   "name": "python",
   "nbconvert_exporter": "python",
   "pygments_lexer": "ipython3",
   "version": "3.10.11"
  }
 },
 "nbformat": 4,
 "nbformat_minor": 5
}

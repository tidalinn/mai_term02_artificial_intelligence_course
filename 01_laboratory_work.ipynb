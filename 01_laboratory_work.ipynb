{
 "cells": [
  {
   "cell_type": "markdown",
   "id": "b23ed780",
   "metadata": {},
   "source": [
    "<h1>Содержание<span class=\"tocSkip\"></span></h1>\n",
    "<br>\n",
    "<div class=\"toc\">\n",
    "    <ul class=\"toc-item\">\n",
    "        <li>\n",
    "            <span>\n",
    "                <a href=\"#1-Подготовка-окружения\">\n",
    "                    <span class=\"toc-item-num\">1&nbsp;&nbsp;</span>\n",
    "                    Подготовка окружения\n",
    "                </a>\n",
    "            </span>\n",
    "        </li>\n",
    "        <li>\n",
    "            <span>\n",
    "                <a href=\"#2-Подготовка-данных\">\n",
    "                    <span class=\"toc-item-num\">2&nbsp;&nbsp;</span>\n",
    "                    Подготовка данных\n",
    "                </a>\n",
    "            </span>\n",
    "            <ul class=\"toc-item\">\n",
    "                <li>\n",
    "                    <span>\n",
    "                        <a href=\"#2.1-Загрузка-данных\">\n",
    "                            <span class=\"toc-item-num\">2.1&nbsp;&nbsp;</span>\n",
    "                            Загрузка данных\n",
    "                        </a>\n",
    "                    </span>\n",
    "                </li>\n",
    "                <li>\n",
    "                    <span>\n",
    "                        <a href=\"#2.2-Разделение-на-выборки\">\n",
    "                            <span class=\"toc-item-num\">2.2&nbsp;&nbsp;</span>\n",
    "                            Разделение на выборки\n",
    "                        </a>\n",
    "                    </span>\n",
    "                </li>\n",
    "            </ul>\n",
    "        </li>\n",
    "        <li>\n",
    "            <span>\n",
    "                <a href=\"#3-KNeighborsClassifier\">\n",
    "                    <span class=\"toc-item-num\">3&nbsp;&nbsp;</span>\n",
    "                    KNeighborsClassifier\n",
    "                </a>\n",
    "            </span>\n",
    "            <ul class=\"toc-item\">\n",
    "                <li>\n",
    "                    <span>\n",
    "                        <a href=\"#3.1-Weighted-KNN\">\n",
    "                            <span class=\"toc-item-num\">3.1&nbsp;&nbsp;</span>\n",
    "                            Weighted KNN\n",
    "                        </a>\n",
    "                    </span>\n",
    "                </li>\n",
    "                <li>\n",
    "                    <span>\n",
    "                        <a href=\"#3.2-STOLP\">\n",
    "                            <span class=\"toc-item-num\">3.2&nbsp;&nbsp;</span>\n",
    "                            STOLP\n",
    "                        </a>\n",
    "                    </span>\n",
    "                </li>\n",
    "            </ul>\n",
    "        </li>\n",
    "        <li>\n",
    "            <span>\n",
    "                <a href=\"#4-Профиль-компактности\">\n",
    "                    <span class=\"toc-item-num\">4&nbsp;&nbsp;</span>\n",
    "                    Профиль компактности\n",
    "                </a>\n",
    "            </span>\n",
    "        </li>\n",
    "        <li>\n",
    "            <span>\n",
    "                <a href=\"#5-Метод-парзеновского-окна\">\n",
    "                    <span class=\"toc-item-num\">5&nbsp;&nbsp;</span>\n",
    "                    Метод парзеновского окна\n",
    "                </a>\n",
    "            </span>\n",
    "        </li>\n",
    "        <li>\n",
    "            <span>\n",
    "                <a href=\"#6-Embedding-над-изображениями\">\n",
    "                    <span class=\"toc-item-num\">6&nbsp;&nbsp;</span>\n",
    "                    Embedding над изображениями\n",
    "                </a>\n",
    "            </span>\n",
    "            <ul class=\"toc-item\">\n",
    "                <li>\n",
    "                    <span>\n",
    "                        <a href=\"#6.1-Обучение-модели\">\n",
    "                            <span class=\"toc-item-num\">6.1&nbsp;&nbsp;</span>\n",
    "                            Обучение модели\n",
    "                        </a>\n",
    "                    </span>\n",
    "                </li>\n",
    "                <li>\n",
    "                    <span>\n",
    "                        <a href=\"#6.2-Тестирование-модели\">\n",
    "                            <span class=\"toc-item-num\">6.2&nbsp;&nbsp;</span>\n",
    "                            Тестирование модели\n",
    "                        </a>\n",
    "                    </span>\n",
    "                </li>\n",
    "            </ul>\n",
    "        </li>\n",
    "        <li>\n",
    "            <span>\n",
    "                <a href=\"#7-Общий-вывод\">\n",
    "                    <span class=\"toc-item-num\">7&nbsp;&nbsp;</span>\n",
    "                    Общий вывод\n",
    "                </a>\n",
    "            </span>\n",
    "        </li>\n",
    "    </ul>\n",
    "</div>"
   ]
  },
  {
   "cell_type": "markdown",
   "id": "4ed3b471",
   "metadata": {},
   "source": [
    "# Лабораторная работа № 1: Метрические алгоритмы"
   ]
  },
  {
   "cell_type": "markdown",
   "id": "b0d05209",
   "metadata": {},
   "source": [
    "**Задача:** проработать задачи с применением метрических алгоритмов:\n",
    "\n",
    "1. Применить метод ближайших соседей (KNN): взвешенный и STOLP.\n",
    "2. Построить профиль компактности.\n",
    "3. Произвести оптимизацию по выбору ширины окна / Применить метод меняющегося окна.\n",
    "4. Построить Embedding над изображениями (приложить к изображениям, чтобы каждой соответствовал вектор - применить в любом виде KNN для формирования датасета из векторов).\n",
    "5. Подать на вход обученной на изображениях модели свои изображения.\n",
    "\n",
    "**Источники данных:** \n",
    "\n",
    "* `sklearn.datasets.make_classification()` (задачи 1-3)\n",
    "* [food-11 Image Classification Dataset](https://www.kaggle.com/datasets/imbikramsaha/food11?resource=download) (задача 4)\n",
    "* папка `data/lab_01_images/` (задача 5)\n",
    "\n",
    "**Описание данных:** \n",
    "\n",
    "* сгенерированный набор данных с 5 классами (задачи 1-3)\n",
    "* фотографии еды с 11ю категориями (мини-версия датасета food-101) (задача 4)\n",
    "* изображения (задача 5)"
   ]
  },
  {
   "cell_type": "markdown",
   "id": "b72e4342",
   "metadata": {},
   "source": [
    "<div style=\"background-color: blue; height: 2px; margin: 10px 0;\"></div>"
   ]
  },
  {
   "cell_type": "markdown",
   "id": "8d07d573",
   "metadata": {},
   "source": [
    "## 1 Подготовка окружения"
   ]
  },
  {
   "cell_type": "markdown",
   "id": "5c67664f",
   "metadata": {},
   "source": [
    "Установка необходимых библиотек:"
   ]
  },
  {
   "cell_type": "code",
   "execution_count": 1,
   "id": "62ad07b8",
   "metadata": {},
   "outputs": [],
   "source": [
    "%%capture no-display\n",
    "!pip install kaggle"
   ]
  },
  {
   "cell_type": "markdown",
   "id": "4fc714b3",
   "metadata": {},
   "source": [
    "Импорт необходимых библиотек:"
   ]
  },
  {
   "cell_type": "code",
   "execution_count": 2,
   "id": "fec4e90c",
   "metadata": {},
   "outputs": [],
   "source": [
    "import numpy as np\n",
    "import pandas as pd\n",
    "\n",
    "from typing import List\n",
    "import os\n",
    "import kaggle\n",
    "import zipfile as zf\n",
    "from zipfile import ZipFile\n",
    "\n",
    "import torch\n",
    "\n",
    "from scipy.spatial.distance import cdist\n",
    "\n",
    "from sklearn.neighbors import KNeighborsClassifier\n",
    "from sklearn.metrics import classification_report\n",
    "from sklearn.model_selection import KFold, ParameterGrid\n",
    "from sklearn.datasets import make_classification\n",
    "from sklearn.model_selection import train_test_split\n",
    "\n",
    "from utils.plot_charts import plot_class, plot_corr, create_decision_regions_gif, \\\n",
    "                              save_plot, plot_value, plot_random_image\n",
    "from utils.useful_funcs import walk_through_dir"
   ]
  },
  {
   "cell_type": "markdown",
   "id": "ecd013c8",
   "metadata": {},
   "source": [
    "Скрытие предупреждений:"
   ]
  },
  {
   "cell_type": "code",
   "execution_count": 3,
   "id": "a4294230",
   "metadata": {},
   "outputs": [],
   "source": [
    "import warnings\n",
    "warnings.filterwarnings('ignore')"
   ]
  },
  {
   "cell_type": "markdown",
   "id": "7a1eb594",
   "metadata": {},
   "source": [
    "Фиксация случайных величин:"
   ]
  },
  {
   "cell_type": "code",
   "execution_count": 4,
   "id": "0c8ea19b",
   "metadata": {},
   "outputs": [],
   "source": [
    "SEED = 42\n",
    "\n",
    "np.random.seed(SEED)"
   ]
  },
  {
   "cell_type": "markdown",
   "id": "5d8658e3",
   "metadata": {},
   "source": [
    "<div style=\"background-color: blue; height: 2px; margin: 10px 0;\"></div>"
   ]
  },
  {
   "cell_type": "markdown",
   "id": "b57e5553",
   "metadata": {},
   "source": [
    "## 2 Подготовка данных"
   ]
  },
  {
   "cell_type": "markdown",
   "id": "9083d359",
   "metadata": {},
   "source": [
    "### 2.1 Загрузка данных"
   ]
  },
  {
   "cell_type": "markdown",
   "id": "038514a7",
   "metadata": {},
   "source": [
    "Формирование многоклассового набора данных:"
   ]
  },
  {
   "cell_type": "code",
   "execution_count": 5,
   "id": "e3cb739a",
   "metadata": {},
   "outputs": [],
   "source": [
    "X, Y = make_classification(\n",
    "    n_samples=1000, \n",
    "    n_features=5, \n",
    "    n_informative=4, \n",
    "    n_classes=5, # lab case\n",
    "    n_redundant=0,\n",
    "    n_clusters_per_class=1,\n",
    "    random_state=SEED\n",
    ")"
   ]
  },
  {
   "cell_type": "markdown",
   "id": "88594107",
   "metadata": {},
   "source": [
    "Формирование датафрейма из набора данных:"
   ]
  },
  {
   "cell_type": "code",
   "execution_count": 6,
   "id": "bfcd0451",
   "metadata": {},
   "outputs": [],
   "source": [
    "data = pd.DataFrame(X, columns=[f'feature_{i}' for i in range(X.shape[1])])\n",
    "data['class'] = pd.Series(Y)"
   ]
  },
  {
   "cell_type": "markdown",
   "id": "7576b877",
   "metadata": {},
   "source": [
    "Выведение на экран первых пяти строк набора данных:"
   ]
  },
  {
   "cell_type": "code",
   "execution_count": 7,
   "id": "66e984ef",
   "metadata": {},
   "outputs": [
    {
     "data": {
      "text/html": [
       "<div>\n",
       "<style scoped>\n",
       "    .dataframe tbody tr th:only-of-type {\n",
       "        vertical-align: middle;\n",
       "    }\n",
       "\n",
       "    .dataframe tbody tr th {\n",
       "        vertical-align: top;\n",
       "    }\n",
       "\n",
       "    .dataframe thead th {\n",
       "        text-align: right;\n",
       "    }\n",
       "</style>\n",
       "<table border=\"1\" class=\"dataframe\">\n",
       "  <thead>\n",
       "    <tr style=\"text-align: right;\">\n",
       "      <th></th>\n",
       "      <th>feature_0</th>\n",
       "      <th>feature_1</th>\n",
       "      <th>feature_2</th>\n",
       "      <th>feature_3</th>\n",
       "      <th>feature_4</th>\n",
       "      <th>class</th>\n",
       "    </tr>\n",
       "  </thead>\n",
       "  <tbody>\n",
       "    <tr>\n",
       "      <th>0</th>\n",
       "      <td>0.408996</td>\n",
       "      <td>0.661415</td>\n",
       "      <td>-0.897567</td>\n",
       "      <td>-1.555497</td>\n",
       "      <td>-0.904534</td>\n",
       "      <td>0</td>\n",
       "    </tr>\n",
       "    <tr>\n",
       "      <th>1</th>\n",
       "      <td>1.327643</td>\n",
       "      <td>1.432874</td>\n",
       "      <td>0.513679</td>\n",
       "      <td>0.297825</td>\n",
       "      <td>-1.866038</td>\n",
       "      <td>4</td>\n",
       "    </tr>\n",
       "    <tr>\n",
       "      <th>2</th>\n",
       "      <td>-0.732133</td>\n",
       "      <td>-2.353074</td>\n",
       "      <td>-0.558209</td>\n",
       "      <td>-0.710792</td>\n",
       "      <td>-0.377599</td>\n",
       "      <td>0</td>\n",
       "    </tr>\n",
       "    <tr>\n",
       "      <th>3</th>\n",
       "      <td>-3.348879</td>\n",
       "      <td>-0.881846</td>\n",
       "      <td>1.796324</td>\n",
       "      <td>-0.055609</td>\n",
       "      <td>-0.680817</td>\n",
       "      <td>0</td>\n",
       "    </tr>\n",
       "    <tr>\n",
       "      <th>4</th>\n",
       "      <td>0.204606</td>\n",
       "      <td>0.334694</td>\n",
       "      <td>-0.007583</td>\n",
       "      <td>-0.981608</td>\n",
       "      <td>-2.019593</td>\n",
       "      <td>1</td>\n",
       "    </tr>\n",
       "  </tbody>\n",
       "</table>\n",
       "</div>"
      ],
      "text/plain": [
       "   feature_0  feature_1  feature_2  feature_3  feature_4  class\n",
       "0   0.408996   0.661415  -0.897567  -1.555497  -0.904534      0\n",
       "1   1.327643   1.432874   0.513679   0.297825  -1.866038      4\n",
       "2  -0.732133  -2.353074  -0.558209  -0.710792  -0.377599      0\n",
       "3  -3.348879  -0.881846   1.796324  -0.055609  -0.680817      0\n",
       "4   0.204606   0.334694  -0.007583  -0.981608  -2.019593      1"
      ]
     },
     "execution_count": 7,
     "metadata": {},
     "output_type": "execute_result"
    }
   ],
   "source": [
    "data.head()"
   ]
  },
  {
   "cell_type": "markdown",
   "id": "bb3b8cfe",
   "metadata": {},
   "source": [
    "Построение условного графика, демонстрирующего количество классов:"
   ]
  },
  {
   "cell_type": "code",
   "execution_count": 8,
   "id": "06343dd9",
   "metadata": {},
   "outputs": [
    {
     "data": {
      "image/png": "[encoded data removed]",
      "text/plain": [
       "<Figure size 600x500 with 1 Axes>"
      ]
     },
     "metadata": {},
     "output_type": "display_data"
    }
   ],
   "source": [
    "plot_class(data, 'Классы набора данных')"
   ]
  },
  {
   "cell_type": "markdown",
   "id": "d8aa7cd1",
   "metadata": {},
   "source": [
    ">Классы наслаиваются друг на друга."
   ]
  },
  {
   "cell_type": "markdown",
   "id": "43b59aad",
   "metadata": {},
   "source": [
    "Выведение на экран матрицы корреляции признаков набора данных:"
   ]
  },
  {
   "cell_type": "code",
   "execution_count": 9,
   "id": "057a0dd8",
   "metadata": {},
   "outputs": [
    {
     "data": {
      "image/png": "[encoded data removed]",
      "text/plain": [
       "<Figure size 600x500 with 2 Axes>"
      ]
     },
     "metadata": {},
     "output_type": "display_data"
    }
   ],
   "source": [
    "plot_corr(data)"
   ]
  },
  {
   "cell_type": "markdown",
   "id": "3a8bc2cd",
   "metadata": {},
   "source": [
    ">Заметно наличие корреляции между некоторыми признаками и целевым признаком."
   ]
  },
  {
   "cell_type": "markdown",
   "id": "ee565988",
   "metadata": {},
   "source": [
    "---"
   ]
  },
  {
   "cell_type": "markdown",
   "id": "a68e3b45",
   "metadata": {},
   "source": [
    "### 2.2 Разделение на выборки"
   ]
  },
  {
   "cell_type": "markdown",
   "id": "7e9c5376",
   "metadata": {},
   "source": [
    "Разделение набора данных на тренировочную и тестовую выборки:"
   ]
  },
  {
   "cell_type": "code",
   "execution_count": 10,
   "id": "0e8c3662",
   "metadata": {},
   "outputs": [],
   "source": [
    "X_train, X_test, y_train, y_test = train_test_split(X, Y, test_size=0.25, random_state=SEED)"
   ]
  },
  {
   "cell_type": "markdown",
   "id": "27326fc0",
   "metadata": {},
   "source": [
    "Выведение на экран размерностей выборок:"
   ]
  },
  {
   "cell_type": "code",
   "execution_count": 11,
   "id": "4ac12d14",
   "metadata": {},
   "outputs": [
    {
     "name": "stdout",
     "output_type": "stream",
     "text": [
      "Train set shape: (750, 5)\n",
      "Test set shape: (250, 5)\n"
     ]
    }
   ],
   "source": [
    "print('Train set shape:', X_train.shape)\n",
    "print('Test set shape:', X_test.shape)"
   ]
  },
  {
   "cell_type": "markdown",
   "id": "d7b3c55e",
   "metadata": {},
   "source": [
    "<div style=\"background-color: blue; height: 2px; margin: 10px 0;\"></div>"
   ]
  },
  {
   "cell_type": "markdown",
   "id": "6fc4df58",
   "metadata": {},
   "source": [
    "## 3 KNeighborsClassifier"
   ]
  },
  {
   "cell_type": "markdown",
   "id": "42be2ff5",
   "metadata": {},
   "source": [
    "**Метод ближайших соседей** — простейший метрический классификатор, основанный на оценивании сходства объектов. Классифицируемый объект относится к тому классу, которому принадлежат ближайшие к нему объекты обучающей выборки.\n",
    "\n",
    ">**Метрический классификатор** — алгоритм классификации, основанный на вычислении оценок сходства между объектами.\n",
    "\n",
    "$$ a(u) = arg \\displaystyle\\max_{y \\in Y} \\sum_{i=1}^k \\Big[ y_u^{(i)} = y \\Big] $$\n",
    "\n",
    "где:\n",
    "\n",
    "* $ u $ - классифицируемый объект\n",
    "\n",
    "* $ k $ - количество соседей\n",
    "\n",
    "* $ y $ - метка класса\n",
    "\n",
    "* $ y_u^{(i)} $ - метка класса объекта"
   ]
  },
  {
   "cell_type": "markdown",
   "id": "a8b5d46c",
   "metadata": {},
   "source": [
    "---"
   ]
  },
  {
   "cell_type": "markdown",
   "id": "ddf27e44",
   "metadata": {},
   "source": [
    "### 3.1 Weighted KNN"
   ]
  },
  {
   "cell_type": "markdown",
   "id": "b0354ea0",
   "metadata": {},
   "source": [
    "**Метод K взвешенных ближайших соседей** - метрический алгоритм классификации, основанный на оценивании сходства объектов. Классифицируемый объект относится к тому классу, которому принадлежат ближайшие к нему объекты обучающей выборки и учитывает расстояния до соседних объектов (увеличивает вклад близких объектов и уменьшает - далёких).\n",
    "\n",
    "$$ a(u) = arg \\displaystyle\\max_{y \\in Y} \\sum_{i=1}^k \\Big[ y_u^{(i)} = y \\Big] w(i, u) $$\n",
    "\n",
    "где:\n",
    "\n",
    "* $ u $ - классифицируемый объект\n",
    "\n",
    "* $ k $ - количество соседей\n",
    "\n",
    "* $ y $ - метка класса\n",
    "\n",
    "* $ y_u^{(i)} $ - метка класса объекта\n",
    "\n",
    "* $ w(i, u) $ - заданная весовая функция, которая оценивает степень важности $ i $-го соседа для классификации объекта $ u $\n",
    "\n",
    ">Особенность назначения весов индикаторам: веса тем больше, чем ближе объект к целевому."
   ]
  },
  {
   "cell_type": "markdown",
   "id": "288fe7c3",
   "metadata": {},
   "source": [
    "**Достоинства:**\n",
    "\n",
    "* Простота реализации.\n",
    "* Проведённую алгоритмом классификацию легко интерпретировать путём предъявления нескольких ближайших объектов.\n",
    "\n",
    "**Недостатки:**\n",
    "\n",
    "* Хранит всю выборку целиком: расход памяти + чрезмерное усложнение решающего правила.\n",
    "* Поиск ближайшего соседа предполагает сравнение классифицируемого объекта со всеми объектами выборки, что требует линейного по длине выборки числа операций."
   ]
  },
  {
   "cell_type": "markdown",
   "id": "1ec02801",
   "metadata": {},
   "source": [
    "*Source code: https://github.com/andriygav/MachineLearningSeminars/blob/master/sem4/main.ipynb*"
   ]
  },
  {
   "cell_type": "markdown",
   "id": "80bc2bf7",
   "metadata": {},
   "source": [
    "---"
   ]
  },
  {
   "cell_type": "markdown",
   "id": "8851bc52",
   "metadata": {},
   "source": [
    "Задание функции для расчёта весов:"
   ]
  },
  {
   "cell_type": "code",
   "execution_count": null,
   "id": "3f1ede21",
   "metadata": {},
   "outputs": [],
   "source": [
    "def func(distance: np.array) -> np.array:\n",
    "    ret = np.ones_like(distance)\n",
    "    k = ret.shape[1]\n",
    "    \n",
    "    for i in range(k):\n",
    "        ret[:, i] *= (k-i) / k\n",
    "        \n",
    "    return ret"
   ]
  },
  {
   "cell_type": "markdown",
   "id": "d08b6381",
   "metadata": {},
   "source": [
    "Сохранение моделей обучения:"
   ]
  },
  {
   "cell_type": "code",
   "execution_count": null,
   "id": "cbb02d2e",
   "metadata": {},
   "outputs": [],
   "source": [
    "models_knn = []\n",
    "\n",
    "for n_neighbors in range(1, 51):\n",
    "    model = KNeighborsClassifier(n_neighbors=n_neighbors, weights=func)\n",
    "    model.fit(X_train, y_train)\n",
    "    models_knn.append(model)"
   ]
  },
  {
   "cell_type": "markdown",
   "id": "ece8c4f5",
   "metadata": {},
   "source": [
    "Выведение на экран этапов классификации в зависимости от количества соседей:"
   ]
  },
  {
   "cell_type": "code",
   "execution_count": null,
   "id": "47f4eef4",
   "metadata": {},
   "outputs": [],
   "source": [
    "create_decision_regions_gif(\n",
    "    models=models_knn, \n",
    "    X=X_test, \n",
    "    Y=y_test, \n",
    "    title='Weighted KNN', \n",
    "    params=['n_neighbors']\n",
    ")"
   ]
  },
  {
   "cell_type": "markdown",
   "id": "8402b876",
   "metadata": {},
   "source": [
    "---"
   ]
  },
  {
   "cell_type": "markdown",
   "id": "6cdd17fc",
   "metadata": {},
   "source": [
    "### 3.2 STOLP"
   ]
  },
  {
   "cell_type": "markdown",
   "id": "56c7ad14",
   "metadata": {},
   "source": [
    "**Алгоритм СТОЛП** (STOLP) — алгоритм отбора эталонных объектов для метрического классификатора.\n",
    "\n",
    "При классификации объектов метрическим классификатором необходимо вычислять расстояния от классифицируемого объекта до всех объектов обучающей выборки, а это:\n",
    "\n",
    "* Время, затрачиваемое на вычисления для каждого объекта и пропорциональное размеру обучающей выборки.\n",
    "* Объём хранимых данных.\n",
    "\n",
    "Алгоритм предназначен для уменьшения объёма обучающей выборки, оставляя в ней только эталонные объекты для каждого класса.\n",
    "\n",
    "**Результат работы алгоритма** - разбиение всего множества объектов на эталонные, шумовые (выбросы) и неинформативные объекты.\n",
    "\n",
    ">**Эталоны** - наиболее типичные представители классов:\n",
    ">\n",
    ">* Неинформативные объекты, при удалении которых из обучающей выборки качество классификации не изменится.\n",
    ">* Выбросы /шумовые объекты — объекты, находящиеся в гуще «чужого» класса, только ухудшающие качество классификации).\n",
    "\n",
    "\n",
    "$$ W(x_i) = -M(x_i, \\Omega) = Гy_i - \\displaystyle\\max_{y \\in Y} Гy(x_i) $$\n",
    "\n",
    "где:\n",
    "\n",
    "* $ W(x_i) $ - отступ на объекте $ x_i $\n",
    "* $ \\Omega $ - множество эталонов\n",
    "* $ Гy_i $ - комбинаторный множитель объекта"
   ]
  },
  {
   "cell_type": "markdown",
   "id": "f9860d3a",
   "metadata": {},
   "source": [
    "**Достоинства:**\n",
    "\n",
    "* Хранение уменьшенной выборки = уменьшение расхода памяти.\n",
    "\n",
    "**Недостатки:**\n",
    "\n",
    "* Имеет относительно низкую эффективность ($ ~ O(l^2) $): на каждой итерации для присоединения очередного эталона необходимо заново классифицировать все объекты, ещё не ставшие эталонами и считать на них величину риска."
   ]
  },
  {
   "cell_type": "markdown",
   "id": "7dadb0b2",
   "metadata": {},
   "source": [
    "**Алгоритм STOLP**\n",
    "\n",
    "*Вход:*\n",
    "\n",
    "* Выборка\n",
    "* Допустимая доля ошибок\n",
    "* Порог отсечения выбросов\n",
    "* Алгоритм классификации\n",
    "* Формула для вычисления величины риска\n",
    "\n",
    "*Описание алгоритма:*\n",
    "\n",
    "1. Отбросить выбросы (объекты выборки с величиной риска > порога отсечения выбросов).\n",
    "\n",
    "2. Сформировать начальное приближение множества эталонов: из объектов выборки выбрать по одному объекту каждого класса, обладающему среди объектов данного класса максимальной величиной риска либо минимальной величиной риска.\n",
    "\n",
    "3. Наращивание множества эталонов (пока число объектов выборки, распознаваемых неправильно, не станет меньше допустимой доли ошибок):\n",
    "\n",
    "    * Классифицировать объекты выборки, используя в качестве обучающей выборки множество эталонов.\n",
    "    * Пересчитать величины риска для всех объектов выборки \\ множества эталонов с учётом изменения обучающей выборки.\n",
    "    * Среди объектов каждого класса, распознанных неправильно, выбрать объекты с максимальной величиной риска и добавить их ко множеству эталонов."
   ]
  },
  {
   "cell_type": "markdown",
   "id": "98a33e59",
   "metadata": {},
   "source": [
    "*Source code: https://github.com/andriygav/MachineLearningSeminars/blob/master/sem4/main.ipynb*"
   ]
  },
  {
   "cell_type": "markdown",
   "id": "ddf25334",
   "metadata": {},
   "source": [
    "---"
   ]
  },
  {
   "cell_type": "markdown",
   "id": "30a10a91",
   "metadata": {},
   "source": []
  },
  {
   "cell_type": "code",
   "execution_count": 29,
   "id": "46271baa",
   "metadata": {},
   "outputs": [],
   "source": [
    "def compute_margins(xkd, x, y, u, u_ans, n):\n",
    "    result = []\n",
    "    bound = min(n, y.shape[0])\n",
    "    for cur_i, cur_u in enumerate(u):\n",
    "        idx = xkd.query(cur_u, bound)[1]\n",
    "        maj = {}\n",
    "        for i in idx:\n",
    "            y_cur = y[i, 0]\n",
    "            di = np.linalg.norm(cur_u - x[i])\n",
    "            dn = np.linalg.norm(cur_u - x[idx[bound - 1]])\n",
    "            w = 0.0\n",
    "            if di != 0.0 and dn > di:\n",
    "                w = dn / di\n",
    "            maj[y_cur] = maj.get(y_cur, 0) + w\n",
    "        cur_u_ans = [u_ans[cur_i]][0][0]\n",
    "        correct_score = maj.get(cur_u_ans, 0)\n",
    "        del maj[cur_u_ans]\n",
    "        max_wrong = 0\n",
    "        if len(maj) > 0:\n",
    "            max_wrong = sorted(maj.items(), key=lambda x: x[1])[-1][1]\n",
    "        result.append(correct_score - max_wrong)\n",
    "    return np.array(result)"
   ]
  },
  {
   "cell_type": "code",
   "execution_count": 30,
   "id": "79a72b18",
   "metadata": {},
   "outputs": [
    {
     "data": {
      "text/html": [
       "<style>#sk-container-id-2 {color: black;background-color: white;}#sk-container-id-2 pre{padding: 0;}#sk-container-id-2 div.sk-toggleable {background-color: white;}#sk-container-id-2 label.sk-toggleable__label {cursor: pointer;display: block;width: 100%;margin-bottom: 0;padding: 0.3em;box-sizing: border-box;text-align: center;}#sk-container-id-2 label.sk-toggleable__label-arrow:before {content: \"▸\";float: left;margin-right: 0.25em;color: #696969;}#sk-container-id-2 label.sk-toggleable__label-arrow:hover:before {color: black;}#sk-container-id-2 div.sk-estimator:hover label.sk-toggleable__label-arrow:before {color: black;}#sk-container-id-2 div.sk-toggleable__content {max-height: 0;max-width: 0;overflow: hidden;text-align: left;background-color: #f0f8ff;}#sk-container-id-2 div.sk-toggleable__content pre {margin: 0.2em;color: black;border-radius: 0.25em;background-color: #f0f8ff;}#sk-container-id-2 input.sk-toggleable__control:checked~div.sk-toggleable__content {max-height: 200px;max-width: 100%;overflow: auto;}#sk-container-id-2 input.sk-toggleable__control:checked~label.sk-toggleable__label-arrow:before {content: \"▾\";}#sk-container-id-2 div.sk-estimator input.sk-toggleable__control:checked~label.sk-toggleable__label {background-color: #d4ebff;}#sk-container-id-2 div.sk-label input.sk-toggleable__control:checked~label.sk-toggleable__label {background-color: #d4ebff;}#sk-container-id-2 input.sk-hidden--visually {border: 0;clip: rect(1px 1px 1px 1px);clip: rect(1px, 1px, 1px, 1px);height: 1px;margin: -1px;overflow: hidden;padding: 0;position: absolute;width: 1px;}#sk-container-id-2 div.sk-estimator {font-family: monospace;background-color: #f0f8ff;border: 1px dotted black;border-radius: 0.25em;box-sizing: border-box;margin-bottom: 0.5em;}#sk-container-id-2 div.sk-estimator:hover {background-color: #d4ebff;}#sk-container-id-2 div.sk-parallel-item::after {content: \"\";width: 100%;border-bottom: 1px solid gray;flex-grow: 1;}#sk-container-id-2 div.sk-label:hover label.sk-toggleable__label {background-color: #d4ebff;}#sk-container-id-2 div.sk-serial::before {content: \"\";position: absolute;border-left: 1px solid gray;box-sizing: border-box;top: 0;bottom: 0;left: 50%;z-index: 0;}#sk-container-id-2 div.sk-serial {display: flex;flex-direction: column;align-items: center;background-color: white;padding-right: 0.2em;padding-left: 0.2em;position: relative;}#sk-container-id-2 div.sk-item {position: relative;z-index: 1;}#sk-container-id-2 div.sk-parallel {display: flex;align-items: stretch;justify-content: center;background-color: white;position: relative;}#sk-container-id-2 div.sk-item::before, #sk-container-id-2 div.sk-parallel-item::before {content: \"\";position: absolute;border-left: 1px solid gray;box-sizing: border-box;top: 0;bottom: 0;left: 50%;z-index: -1;}#sk-container-id-2 div.sk-parallel-item {display: flex;flex-direction: column;z-index: 1;position: relative;background-color: white;}#sk-container-id-2 div.sk-parallel-item:first-child::after {align-self: flex-end;width: 50%;}#sk-container-id-2 div.sk-parallel-item:last-child::after {align-self: flex-start;width: 50%;}#sk-container-id-2 div.sk-parallel-item:only-child::after {width: 0;}#sk-container-id-2 div.sk-dashed-wrapped {border: 1px dashed gray;margin: 0 0.4em 0.5em 0.4em;box-sizing: border-box;padding-bottom: 0.4em;background-color: white;}#sk-container-id-2 div.sk-label label {font-family: monospace;font-weight: bold;display: inline-block;line-height: 1.2em;}#sk-container-id-2 div.sk-label-container {text-align: center;}#sk-container-id-2 div.sk-container {/* jupyter's `normalize.less` sets `[hidden] { display: none; }` but bootstrap.min.css set `[hidden] { display: none !important; }` so we also need the `!important` here to be able to override the default hidden behavior on the sphinx rendered scikit-learn.org. See: https://github.com/scikit-learn/scikit-learn/issues/21755 */display: inline-block !important;position: relative;}#sk-container-id-2 div.sk-text-repr-fallback {display: none;}</style><div id=\"sk-container-id-2\" class=\"sk-top-container\"><div class=\"sk-text-repr-fallback\"><pre>KNeighborsClassifier(n_neighbors=7)</pre><b>In a Jupyter environment, please rerun this cell to show the HTML representation or trust the notebook. <br />On GitHub, the HTML representation is unable to render, please try loading this page with nbviewer.org.</b></div><div class=\"sk-container\" hidden><div class=\"sk-item\"><div class=\"sk-estimator sk-toggleable\"><input class=\"sk-toggleable__control sk-hidden--visually\" id=\"sk-estimator-id-2\" type=\"checkbox\" checked><label for=\"sk-estimator-id-2\" class=\"sk-toggleable__label sk-toggleable__label-arrow\">KNeighborsClassifier</label><div class=\"sk-toggleable__content\"><pre>KNeighborsClassifier(n_neighbors=7)</pre></div></div></div></div></div>"
      ],
      "text/plain": [
       "KNeighborsClassifier(n_neighbors=7)"
      ]
     },
     "execution_count": 30,
     "metadata": {},
     "output_type": "execute_result"
    }
   ],
   "source": [
    "model_knn = KNeighborsClassifier(n_neighbors=7)\n",
    "model_knn.fit(X_test, y_test)"
   ]
  },
  {
   "cell_type": "code",
   "execution_count": 31,
   "id": "2aecb147",
   "metadata": {},
   "outputs": [
    {
     "ename": "AttributeError",
     "evalue": "'KNeighborsClassifier' object has no attribute 'query'",
     "output_type": "error",
     "traceback": [
      "\u001b[1;31m---------------------------------------------------------------------------\u001b[0m",
      "\u001b[1;31mAttributeError\u001b[0m                            Traceback (most recent call last)",
      "Cell \u001b[1;32mIn[31], line 1\u001b[0m\n\u001b[1;32m----> 1\u001b[0m margins \u001b[38;5;241m=\u001b[39m \u001b[43mcompute_margins\u001b[49m\u001b[43m(\u001b[49m\u001b[43mmodel\u001b[49m\u001b[43m,\u001b[49m\u001b[43m \u001b[49m\u001b[43mX_test\u001b[49m\u001b[43m,\u001b[49m\u001b[43m \u001b[49m\u001b[43my_test\u001b[49m\u001b[43m,\u001b[49m\u001b[43m \u001b[49m\u001b[43mX_test\u001b[49m\u001b[43m,\u001b[49m\u001b[43m \u001b[49m\u001b[43my_test\u001b[49m\u001b[43m,\u001b[49m\u001b[43m \u001b[49m\u001b[38;5;241;43m7\u001b[39;49m\u001b[43m)\u001b[49m\n",
      "Cell \u001b[1;32mIn[29], line 5\u001b[0m, in \u001b[0;36mcompute_margins\u001b[1;34m(xkd, x, y, u, u_ans, n)\u001b[0m\n\u001b[0;32m      3\u001b[0m bound \u001b[38;5;241m=\u001b[39m \u001b[38;5;28mmin\u001b[39m(n, y\u001b[38;5;241m.\u001b[39mshape[\u001b[38;5;241m0\u001b[39m])\n\u001b[0;32m      4\u001b[0m \u001b[38;5;28;01mfor\u001b[39;00m cur_i, cur_u \u001b[38;5;129;01min\u001b[39;00m \u001b[38;5;28menumerate\u001b[39m(u):\n\u001b[1;32m----> 5\u001b[0m     idx \u001b[38;5;241m=\u001b[39m \u001b[43mxkd\u001b[49m\u001b[38;5;241;43m.\u001b[39;49m\u001b[43mquery\u001b[49m(cur_u, bound)[\u001b[38;5;241m1\u001b[39m]\n\u001b[0;32m      6\u001b[0m     maj \u001b[38;5;241m=\u001b[39m {}\n\u001b[0;32m      7\u001b[0m     \u001b[38;5;28;01mfor\u001b[39;00m i \u001b[38;5;129;01min\u001b[39;00m idx:\n",
      "\u001b[1;31mAttributeError\u001b[0m: 'KNeighborsClassifier' object has no attribute 'query'"
     ]
    }
   ],
   "source": [
    "margins = compute_margins(model, X_test, y_test, X_test, y_test, 7)"
   ]
  },
  {
   "cell_type": "code",
   "execution_count": null,
   "id": "45aebc2e",
   "metadata": {},
   "outputs": [],
   "source": [
    "len(margins)"
   ]
  },
  {
   "cell_type": "code",
   "execution_count": null,
   "id": "4cba912f",
   "metadata": {},
   "outputs": [],
   "source": [
    "def stolp(src_x, src_y, err_num, th, n):\n",
    "    #Step 2\n",
    "    support_x = []\n",
    "    support_y = []\n",
    "    src_xkd = KDTree(src_x)\n",
    "    margins = np.array([compute_margins(src_xkd, src_x, src_y, src_x, src_y, n)]).transpose()\n",
    "    #Step 3\n",
    "    x = src_x[margins[:, 0] > th]\n",
    "    y = src_y[margins[:, 0] > th]\n",
    "    margins = margins[margins[:, 0] > th]\n",
    "    ss = np.argsort(margins[:, 0])\n",
    "    #Step 4\n",
    "    for ans in np.unique(y):\n",
    "        for m in ss:\n",
    "            if y[m] == ans:\n",
    "                support_x.append(x[m])\n",
    "                support_y.append(y[m])\n",
    "                x = np.delete(x, (m), axis=0)\n",
    "                y = np.delete(y, (m), axis=0)\n",
    "                break\n",
    "    errors = x.shape[0]\n",
    "    #Step 5\n",
    "    while errors > err_num:\n",
    "        xkd = KDTree(np.array(support_x))\n",
    "        margins = compute_margins(xkd, np.array(support_x), np.array(support_y), x, y, n)\n",
    "        errors = sum(classify(np.array(support_x), np.array(support_y), src_x, n) != src_y[:, 0])\n",
    "        print(errors)\n",
    "        ss = np.argsort(margins)\n",
    "        to_delete = []\n",
    "        m = ss[0]\n",
    "        support_x.append(x[m])\n",
    "        support_y.append(y[m])\n",
    "        to_delete.append(m)\n",
    "        x = np.delete(x, to_delete, axis=0)\n",
    "        y = np.delete(y, to_delete, axis=0)\n",
    "    return np.array(support_x), np.array(support_y)"
   ]
  },
  {
   "cell_type": "code",
   "execution_count": null,
   "id": "277ee8da",
   "metadata": {},
   "outputs": [],
   "source": [
    "stolp_prx, stolp_pry = stolp(X_test, Y_test, err_num=60, depth_limit=0.0001, n=5)"
   ]
  },
  {
   "cell_type": "code",
   "execution_count": null,
   "id": "b65b41a1",
   "metadata": {},
   "outputs": [],
   "source": [
    "stolp_prx"
   ]
  },
  {
   "cell_type": "code",
   "execution_count": null,
   "id": "9c75f0f8",
   "metadata": {},
   "outputs": [],
   "source": []
  },
  {
   "cell_type": "code",
   "execution_count": null,
   "id": "4649f388",
   "metadata": {},
   "outputs": [],
   "source": []
  },
  {
   "cell_type": "code",
   "execution_count": null,
   "id": "a8408f8e",
   "metadata": {},
   "outputs": [],
   "source": []
  },
  {
   "cell_type": "code",
   "execution_count": null,
   "id": "de3180c8",
   "metadata": {},
   "outputs": [],
   "source": [
    "x = list(range(len(M)))\n",
    "plt.plot(x, M)\n",
    "\n",
    "plt.hlines(0, 0, len(x), color='black')\n",
    "plt.fill_between(x, M, where=M<0, color='red', alpha=0.5)\n",
    "plt.fill_between(x, M, where=M>0, color='green', alpha=0.5)\n",
    "plt.show()"
   ]
  },
  {
   "cell_type": "markdown",
   "id": "c49ce054",
   "metadata": {},
   "source": []
  },
  {
   "cell_type": "code",
   "execution_count": null,
   "id": "f836d47a",
   "metadata": {},
   "outputs": [],
   "source": [
    "fig, gs = plt.figure(figsize=(9,4)), gridspec.GridSpec(1, 2)\n",
    "colors=['blue', 'orange']\n",
    "\n",
    "ax = []\n",
    "for i in range(2):\n",
    "    ax.append(fig.add_subplot(gs[i]))\n",
    "    \n",
    "for k in np.unique(Y_train):\n",
    "    ax[1].plot(X_train[Y_train==k, 0], \n",
    "               X_train[Y_train==k, 1], '.', color=colors[k])\n",
    "    \n",
    "\n",
    "for ind in Omega:\n",
    "    ax[1].scatter([X_train[ind, 0]], \n",
    "                  [X_train[ind, 1]], color=colors[Y_train[ind]])\n",
    "    \n",
    "plot_decision_regions(X_test, Y_test, model, ax=ax[0])\n",
    "\n",
    "plt.show()\n"
   ]
  },
  {
   "cell_type": "markdown",
   "id": "0ecec40f",
   "metadata": {},
   "source": [
    "<div style=\"background-color: blue; height: 2px; margin: 10px 0;\"></div>"
   ]
  },
  {
   "cell_type": "markdown",
   "id": "7f97db6f",
   "metadata": {},
   "source": [
    "## 4 Профиль компактности"
   ]
  },
  {
   "cell_type": "markdown",
   "id": "549cf55d",
   "metadata": {},
   "source": [
    "**Профиль компактности** выборки в метрических алгоритмах классификации — функция, выражающая долю объектов выборки, для которых правильный ответ не совпадает с правильным ответом на $ j $-м соседе.\n",
    "\n",
    ">Профиль компактности является формальным выражением **гипотезы компактности** — предположения о том, что схожие объекты гораздо чаще лежат в одном классе, чем в разных. \n",
    ">\n",
    ">Чем проще задача, то есть чем чаще близкие объекты оказываются в одном классе, тем сильнее «прижимается к нулю» начальный участок профиля.\n",
    "\n",
    "$$ R(j, X^m) = \\frac {1}{m} \\sum_{i=1}^m \\Big[ y_i \\neq y_{j, x_i} \\Big] $$\n",
    "\n",
    "где:\n",
    "\n",
    "* $ R(j) $ - доля объектов выборки, для которых $ j $-й сосед лежит в другом классе \n",
    "* $ m $ - длина выборки"
   ]
  },
  {
   "cell_type": "markdown",
   "id": "ccd7c5df",
   "metadata": {},
   "source": [
    "*Source code: https://github.com/andreitsev/stuff/blob/master/space_compactness_profile.py*"
   ]
  },
  {
   "cell_type": "markdown",
   "id": "9ed20c68",
   "metadata": {},
   "source": [
    "---"
   ]
  },
  {
   "cell_type": "markdown",
   "id": "8fec4806",
   "metadata": {},
   "source": [
    "Задание функции профиля компактности:"
   ]
  },
  {
   "cell_type": "code",
   "execution_count": null,
   "id": "053d848f",
   "metadata": {},
   "outputs": [],
   "source": [
    "def compactness_profile(model, X: np.ndarray, Y: np.ndarray) -> np.array:\n",
    "    distances, indexes = model.kneighbors(X)\n",
    "    \n",
    "    misclassification_fraction = []\n",
    "    \n",
    "    for neighbour_num in range(1, X.shape[0]):\n",
    "        misclassification_fraction.append((Y != Y[indexes[:, neighbour_num]]).mean())\n",
    "        \n",
    "    return np.array(misclassification_fraction)"
   ]
  },
  {
   "cell_type": "markdown",
   "id": "ea2066ad",
   "metadata": {},
   "source": [
    "---"
   ]
  },
  {
   "cell_type": "markdown",
   "id": "7dd8df6d",
   "metadata": {},
   "source": [
    "Обучение модели:"
   ]
  },
  {
   "cell_type": "code",
   "execution_count": null,
   "id": "52ec5f92",
   "metadata": {},
   "outputs": [],
   "source": [
    "model_cp = KNeighborsClassifier(n_neighbors=X_train.shape[0], metric='euclidean')\n",
    "model_cp.fit(X_train, y_train)"
   ]
  },
  {
   "cell_type": "markdown",
   "id": "4fcbffdb",
   "metadata": {},
   "source": [
    "Выведение на экран графика профиля компактности:"
   ]
  },
  {
   "cell_type": "code",
   "execution_count": null,
   "id": "b047937d",
   "metadata": {},
   "outputs": [],
   "source": [
    "plot_value(compactness_profile(\n",
    "    model_cp, X_train, y_train), \n",
    "    'Доля несовпадающих объектов', \n",
    "    x_axis='n_neighbors', \n",
    "    y_axis='ratio'\n",
    ")"
   ]
  },
  {
   "cell_type": "markdown",
   "id": "97980d3a",
   "metadata": {},
   "source": [
    "Выведение на экран классификации:"
   ]
  },
  {
   "cell_type": "code",
   "execution_count": null,
   "id": "9dd82493",
   "metadata": {},
   "outputs": [],
   "source": [
    "save_plot(\n",
    "    index=0,\n",
    "    model=model_cp, \n",
    "    X=X_train,\n",
    "    Y=y_train,\n",
    "    params=['n_neighbors'],\n",
    "    title='Compactness Profile',\n",
    "    show=True\n",
    ")"
   ]
  },
  {
   "cell_type": "markdown",
   "id": "713f03ef",
   "metadata": {},
   "source": [
    "<div style=\"background-color: blue; height: 2px; margin: 10px 0;\"></div>"
   ]
  },
  {
   "cell_type": "markdown",
   "id": "224eed17",
   "metadata": {},
   "source": [
    "## 5 Метод парзеновского окна"
   ]
  },
  {
   "cell_type": "markdown",
   "id": "fd89f7c8",
   "metadata": {},
   "source": [
    "**Метод парзеновского окна** — метод байесовской классификации, основанный на непараметрическом восстановлении плотности по имеющейся выборке.\n",
    "\n",
    "В основе подхода лежит идея о том, что плотность выше в тех точках, рядом с которыми находится большое количество объектов выборки.\n",
    "\n",
    ">**Байесовский классификатор** — широкий класс алгоритмов классификации, основанный на принципе максимума апостериорной вероятности. \n",
    ">\n",
    ">Для классифицируемого объекта вычисляются функции правдоподобия каждого из классов, по ним вычисляются апостериорные вероятности классов. Объект относится к тому классу, для которого апостериорная вероятность максимальна.\n",
    ">\n",
    ">**Апостериорная вероятность** – измеряет вероятность какого-то определенного состояния окружающего мира (при котором произошло другое событие). \n",
    "\n",
    "$$ a(x, X^l, h) = arg \\displaystyle\\max_{y \\in Y} \\lambda_y \\sum_{i=1}^l \\Big[ y_i = y \\Big] K \\Big( \\frac {p(x, x_i)}{h} \\Big) $$\n",
    "\n",
    "где:\n",
    "\n",
    "* $ \\lambda_y $ - коэффициент\n",
    "* $ l $ - длина выборки\n",
    "\n",
    "**Функция ядра (окна)** - произвольная четная функция.\n",
    "\n",
    "Название | Функция\n",
    "-|-\n",
    "Прямоугольное ядро | $$ K(z) = \\frac {1}{2} \\Big[ |z| < 1 \\Big] $$\n",
    "Гауссовское ядро | $$ K(z) = \\frac {1}{\\sqrt{2 \\pi}} exp \\Big( - \\frac {z^2}{2} \\Big) $$\n",
    "Треугольное ядро | $$ K(z) = \\Big( 1 - |z| \\Big) \\Big[ |z| \\leq 1 \\Big] $$\n",
    "Квартическое ядро | $$ K(z) = \\frac {15}{16} \\Big( 1 - z^2 \\Big)^2 \\Big[ |z| \\leq 1 \\Big] $$\n",
    "Ядро Епанечникова | $$ K(z) = \\frac {3}{4} \\Big( 1 - z^2 \\Big) \\Big[ |z| \\leq 1 \\Big] $$\n",
    "\n",
    "\\* *Вид функции окна не влияет на качество классификации определяющим образом.*\n",
    "\n",
    "**Ширина окна** - влияет на качество восстановления плотности и, как следствие, классификации.\n",
    "\n",
    "**Проблемы алгоритма:**\n",
    "\n",
    "* *Проблема локальных сгущений* - возникает в тех случаях, когда распределение объектов в пространстве сильно неравномерно, и одно и то же значение ширины окна h приводит к чрезмерному сглаживанию плотности в одних местах, и недостаточному сглаживанию в других. Проблему решают окна переменной ширины.\n",
    "\n",
    "* *Проблема «проклятия размерности»* - если число признаков велико и учитываются все они, то все объекты оказываются примерно на одинаковом расстоянии друг от друга. Выход заключается в понижении размерности с помощью преобразования пространства признаков, либо путём отбора информативных признаков."
   ]
  },
  {
   "cell_type": "markdown",
   "id": "6d3520ad",
   "metadata": {},
   "source": [
    "*Source code: https://github.com/andriygav/MachineLearningSeminars/blob/master/sem4/main.ipynb*"
   ]
  },
  {
   "cell_type": "markdown",
   "id": "451cea78",
   "metadata": {},
   "source": [
    "---"
   ]
  },
  {
   "cell_type": "markdown",
   "id": "8f729fe7",
   "metadata": {},
   "source": [
    "Задание функции ядра:"
   ]
  },
  {
   "cell_type": "code",
   "execution_count": null,
   "id": "6ce273fc",
   "metadata": {},
   "outputs": [],
   "source": [
    "def K(distance: np.array, h: float) -> np.array:\n",
    "    ret = np.array(distance) / h\n",
    "    return (1 - ret ** 2) * (np.abs(ret) <= 1)"
   ]
  },
  {
   "cell_type": "markdown",
   "id": "04b350b0",
   "metadata": {},
   "source": [
    "---"
   ]
  },
  {
   "cell_type": "markdown",
   "id": "35f2c27b",
   "metadata": {},
   "source": [
    "Сохранение моделей обучения:"
   ]
  },
  {
   "cell_type": "code",
   "execution_count": null,
   "id": "d31a487d",
   "metadata": {
    "scrolled": true
   },
   "outputs": [],
   "source": [
    "for i, h in enumerate(np.arange(0.05, 3.1, 0.2)):\n",
    "    model = KNeighborsClassifier(n_neighbors=len(X_train), weights=lambda x: K(x, h=h))\n",
    "    model.fit(X_train, y_train)\n",
    "    \n",
    "    save_plot(\n",
    "        index=i,\n",
    "        model=model, \n",
    "        X=X_train,\n",
    "        Y=y_train,\n",
    "        params={'h': h},\n",
    "        title='Parzen Window'\n",
    "    )"
   ]
  },
  {
   "cell_type": "markdown",
   "id": "3c5e7222",
   "metadata": {},
   "source": [
    "Выведение на экран этапов классификации в зависимости от количества соседей:"
   ]
  },
  {
   "cell_type": "code",
   "execution_count": null,
   "id": "d6d63e48",
   "metadata": {},
   "outputs": [],
   "source": [
    "create_decision_regions_gif(title='Parzen Window', images_saved=True)"
   ]
  },
  {
   "cell_type": "markdown",
   "id": "a7352886",
   "metadata": {},
   "source": [
    "<div style=\"background-color: blue; height: 2px; margin: 10px 0;\"></div>"
   ]
  },
  {
   "cell_type": "markdown",
   "id": "390814da",
   "metadata": {},
   "source": [
    "## 6 Embedding над изображениями"
   ]
  },
  {
   "cell_type": "markdown",
   "id": "88203e0e",
   "metadata": {},
   "source": []
  },
  {
   "cell_type": "markdown",
   "id": "24ad6d26",
   "metadata": {},
   "source": [
    "---"
   ]
  },
  {
   "cell_type": "markdown",
   "id": "bc67e168",
   "metadata": {},
   "source": [
    "### 6.1 Обучение модели"
   ]
  },
  {
   "cell_type": "markdown",
   "id": "afc11dda",
   "metadata": {},
   "source": []
  },
  {
   "cell_type": "code",
   "execution_count": null,
   "id": "86b86ccf",
   "metadata": {},
   "outputs": [],
   "source": [
    "def get_classes(target_dir: str) -> List[str]:\n",
    "    classes = []\n",
    "    \n",
    "    for dirpath, dirnames, filenames in os.walk(target_dir):\n",
    "        if 'train' not in dirnames and 'test' not in dirnames and dirnames != []:\n",
    "            classes.extend(dirnames)\n",
    "    \n",
    "    return list(set(classes))"
   ]
  },
  {
   "cell_type": "markdown",
   "id": "fb6d296b",
   "metadata": {},
   "source": [
    "---"
   ]
  },
  {
   "cell_type": "markdown",
   "id": "e30c6828",
   "metadata": {},
   "source": [
    "Добавление папки с наборами данных:"
   ]
  },
  {
   "cell_type": "code",
   "execution_count": null,
   "id": "51b0ebb2",
   "metadata": {},
   "outputs": [],
   "source": [
    "if os.path.isdir('data') == False:\n",
    "    os.mkdir('data')"
   ]
  },
  {
   "cell_type": "markdown",
   "id": "2e865fd4",
   "metadata": {},
   "source": [
    "Скачивание набора данных:"
   ]
  },
  {
   "cell_type": "code",
   "execution_count": null,
   "id": "c78e5117",
   "metadata": {},
   "outputs": [],
   "source": [
    "if os.path.isdir('data/food11') == False:\n",
    "    os.chdir('data/')\n",
    "    \n",
    "    !kaggle datasets download -d imbikramsaha/food11\n",
    "    \n",
    "    with zf.ZipFile('food11.zip', 'r') as file:\n",
    "        file.extractall('.')\n",
    "        \n",
    "    os.remove('food11.zip')\n",
    "    \n",
    "    os.chdir('..')"
   ]
  },
  {
   "cell_type": "markdown",
   "id": "f1b91618",
   "metadata": {},
   "source": [
    "Задание путей до тренировочного и тестового набора данных:"
   ]
  },
  {
   "cell_type": "code",
   "execution_count": null,
   "id": "919b40c2",
   "metadata": {},
   "outputs": [],
   "source": [
    "path_data = 'data/food11/'\n",
    "path_train = path_data + 'train/'\n",
    "path_test = path_data + 'test/'"
   ]
  },
  {
   "cell_type": "markdown",
   "id": "fe65c564",
   "metadata": {},
   "source": [
    "Выведение на экран изображения и его параметров:"
   ]
  },
  {
   "cell_type": "code",
   "execution_count": null,
   "id": "55b81875",
   "metadata": {},
   "outputs": [],
   "source": [
    "plot_random_image(path_train, depth='*/*')"
   ]
  },
  {
   "cell_type": "markdown",
   "id": "3446374a",
   "metadata": {},
   "source": []
  },
  {
   "cell_type": "code",
   "execution_count": null,
   "id": "98b830c1",
   "metadata": {},
   "outputs": [],
   "source": [
    "walk_through_dir(path_data)"
   ]
  },
  {
   "cell_type": "markdown",
   "id": "7a2c1c35",
   "metadata": {},
   "source": []
  },
  {
   "cell_type": "code",
   "execution_count": null,
   "id": "f03e6be9",
   "metadata": {},
   "outputs": [],
   "source": [
    "get_classes(path_data)"
   ]
  },
  {
   "cell_type": "code",
   "execution_count": null,
   "id": "69701f99",
   "metadata": {},
   "outputs": [],
   "source": []
  },
  {
   "cell_type": "code",
   "execution_count": null,
   "id": "42184063",
   "metadata": {},
   "outputs": [],
   "source": []
  },
  {
   "cell_type": "code",
   "execution_count": null,
   "id": "88c17a33",
   "metadata": {},
   "outputs": [],
   "source": []
  },
  {
   "cell_type": "code",
   "execution_count": null,
   "id": "1ad7c634",
   "metadata": {},
   "outputs": [],
   "source": [
    "model = timm.create_model(\"resnet18\", pretrained=True)\n",
    "model = model.eval()\n",
    "X_image = []\n",
    "Y_image = []"
   ]
  },
  {
   "cell_type": "code",
   "execution_count": null,
   "id": "ecf4564e",
   "metadata": {},
   "outputs": [],
   "source": [
    "val_transforms = A.Compose(\n",
    "    [\n",
    "        A.Resize(224, 224),\n",
    "        A.Normalize(mean=(0.485, 0.456, 0.406), std=(0.229, 0.224, 0.225)),\n",
    "        Ap.transforms.ToTensorV2(),\n",
    "    ]\n",
    ")"
   ]
  },
  {
   "cell_type": "code",
   "execution_count": null,
   "id": "79c9eeab",
   "metadata": {},
   "outputs": [],
   "source": [
    "for i, c in enumerate(clas):\n",
    "    for j in os.listdir(data_sors + \"/\" + c):\n",
    "        try:\n",
    "            image = Image.open(os.path.join(data_sors, c, j))\n",
    "            image = val_transforms(image=np.array(image))[\"image\"]\n",
    "            X_image.append(model(image.unsqueeze(0)).detach().numpy()[0])\n",
    "            Y_image.append(i)\n",
    "        except:\n",
    "            print(os.path.join(data_sors, c, j))"
   ]
  },
  {
   "cell_type": "code",
   "execution_count": null,
   "id": "612be407",
   "metadata": {},
   "outputs": [],
   "source": []
  },
  {
   "cell_type": "code",
   "execution_count": null,
   "id": "21e1e620",
   "metadata": {},
   "outputs": [],
   "source": []
  },
  {
   "cell_type": "code",
   "execution_count": null,
   "id": "1dbddda4",
   "metadata": {},
   "outputs": [],
   "source": []
  },
  {
   "cell_type": "code",
   "execution_count": null,
   "id": "77718dd8",
   "metadata": {},
   "outputs": [],
   "source": []
  },
  {
   "cell_type": "code",
   "execution_count": null,
   "id": "0761ec0d",
   "metadata": {},
   "outputs": [],
   "source": []
  },
  {
   "cell_type": "markdown",
   "id": "45e601fc",
   "metadata": {},
   "source": [
    "---"
   ]
  },
  {
   "cell_type": "markdown",
   "id": "7d84af81",
   "metadata": {},
   "source": [
    "### 6.2 Тестирование модели"
   ]
  },
  {
   "cell_type": "markdown",
   "id": "54ec6c80",
   "metadata": {},
   "source": [
    "Проверить на собственных фото"
   ]
  },
  {
   "cell_type": "code",
   "execution_count": null,
   "id": "3e1edede",
   "metadata": {},
   "outputs": [],
   "source": []
  },
  {
   "cell_type": "code",
   "execution_count": null,
   "id": "b0557c9d",
   "metadata": {},
   "outputs": [],
   "source": []
  },
  {
   "cell_type": "code",
   "execution_count": null,
   "id": "5cdb7a53",
   "metadata": {},
   "outputs": [],
   "source": []
  },
  {
   "cell_type": "code",
   "execution_count": null,
   "id": "746d86c6",
   "metadata": {},
   "outputs": [],
   "source": []
  },
  {
   "cell_type": "code",
   "execution_count": null,
   "id": "b89fc10c",
   "metadata": {},
   "outputs": [],
   "source": []
  },
  {
   "cell_type": "code",
   "execution_count": null,
   "id": "b8e9156f",
   "metadata": {},
   "outputs": [],
   "source": []
  },
  {
   "cell_type": "code",
   "execution_count": null,
   "id": "55458e25",
   "metadata": {},
   "outputs": [],
   "source": []
  },
  {
   "cell_type": "code",
   "execution_count": null,
   "id": "a2f6096f",
   "metadata": {},
   "outputs": [],
   "source": []
  },
  {
   "cell_type": "code",
   "execution_count": null,
   "id": "179817f2",
   "metadata": {},
   "outputs": [],
   "source": []
  },
  {
   "cell_type": "code",
   "execution_count": null,
   "id": "8fbb282b",
   "metadata": {},
   "outputs": [],
   "source": []
  },
  {
   "cell_type": "code",
   "execution_count": null,
   "id": "8641d021",
   "metadata": {},
   "outputs": [],
   "source": []
  },
  {
   "cell_type": "code",
   "execution_count": null,
   "id": "55f02fc9",
   "metadata": {},
   "outputs": [],
   "source": []
  },
  {
   "cell_type": "code",
   "execution_count": null,
   "id": "4f3162c4",
   "metadata": {},
   "outputs": [],
   "source": []
  },
  {
   "cell_type": "markdown",
   "id": "5dcd7d25",
   "metadata": {},
   "source": [
    "<div style=\"background-color: blue; height: 2px; margin: 10px 0;\"></div>"
   ]
  },
  {
   "cell_type": "markdown",
   "id": "01ffa171",
   "metadata": {},
   "source": [
    "## 7 Общий вывод"
   ]
  },
  {
   "cell_type": "markdown",
   "id": "e8b51811",
   "metadata": {},
   "source": []
  },
  {
   "cell_type": "markdown",
   "id": "f4cf31fe",
   "metadata": {},
   "source": [
    "<div style=\"text-align: center; font-size: 20px; padding: 15px 0;\">\n",
    "    <a href=\"#Содержание\" data-toc-modified-id=\"Содержание\" style=\"text-decoration: none; color: #296eaa; border: 2px dashed #296eaa; opacity: 0.8; border-radius: 3px; padding: 10px 80px;\">\n",
    "        В начало файла ↑\n",
    "    </a>\n",
    "</div>"
   ]
  }
 ],
 "metadata": {
  "kernelspec": {
   "display_name": "Python 3 (ipykernel)",
   "language": "python",
   "name": "python3"
  },
  "language_info": {
   "codemirror_mode": {
    "name": "ipython",
    "version": 3
   },
   "file_extension": ".py",
   "mimetype": "text/x-python",
   "name": "python",
   "nbconvert_exporter": "python",
   "pygments_lexer": "ipython3",
   "version": "3.10.11"
  }
 },
 "nbformat": 4,
 "nbformat_minor": 5
}

{
 "cells": [
  {
   "cell_type": "markdown",
   "id": "55a80df7",
   "metadata": {},
   "source": [
    "<h1>Содержание<span class=\"tocSkip\"></span></h1>\n",
    "<br>\n",
    "<div class=\"toc\">\n",
    "    <ul class=\"toc-item\">\n",
    "        <li>\n",
    "            <span>\n",
    "                <a href=\"#1-Подготовка-окружения\">\n",
    "                    <span class=\"toc-item-num\">1&nbsp;&nbsp;</span>\n",
    "                    Подготовка окружения\n",
    "                </a>\n",
    "            </span>\n",
    "        </li>\n",
    "        <li>\n",
    "            <span>\n",
    "                <a href=\"#2-Загрузка-данных\">\n",
    "                    <span class=\"toc-item-num\">2&nbsp;&nbsp;</span>\n",
    "                    Загрузка данных\n",
    "                </a>\n",
    "            </span>\n",
    "        </li>\n",
    "        <li>\n",
    "            <span>\n",
    "                <a href=\"#3-Двунаправленная-LSTM\">\n",
    "                    <span class=\"toc-item-num\">3&nbsp;&nbsp;</span>\n",
    "                    Двунаправленная LSTM\n",
    "                </a>\n",
    "            </span>\n",
    "            <ul class=\"toc-item\">\n",
    "                <li>\n",
    "                    <span>\n",
    "                        <a href=\"#3.1-Токенизация-слов\">\n",
    "                            <span class=\"toc-item-num\">3.1&nbsp;&nbsp;</span>\n",
    "                            Токенизация слов\n",
    "                        </a>\n",
    "                    </span>\n",
    "                </li>\n",
    "            </ul>\n",
    "        </li>\n",
    "        <li>\n",
    "            <span>\n",
    "                <a href=\"#4-Общий-вывод\">\n",
    "                    <span class=\"toc-item-num\">4&nbsp;&nbsp;</span>\n",
    "                    Общий вывод\n",
    "                </a>\n",
    "            </span>\n",
    "        </li>\n",
    "    </ul>\n",
    "</div>"
   ]
  },
  {
   "cell_type": "markdown",
   "id": "0382b62e",
   "metadata": {},
   "source": [
    "# Лабораторная работа №4: DeepFake"
   ]
  },
  {
   "cell_type": "markdown",
   "id": "7b13c799",
   "metadata": {},
   "source": [
    "**Задача:**\n",
    "\n",
    "**Источник данных:**"
   ]
  },
  {
   "cell_type": "markdown",
   "id": "6074ec61",
   "metadata": {},
   "source": [
    "<div style=\"background-color: blue; height: 2px; margin: 10px 0;\"></div>"
   ]
  },
  {
   "cell_type": "markdown",
   "id": "63381277",
   "metadata": {},
   "source": [
    "## 1 Подготовка окружения"
   ]
  },
  {
   "cell_type": "markdown",
   "id": "2e4f3fb2",
   "metadata": {},
   "source": []
  },
  {
   "cell_type": "code",
   "execution_count": 1,
   "id": "37d78237",
   "metadata": {},
   "outputs": [],
   "source": [
    "import os\n",
    "import shutil"
   ]
  },
  {
   "cell_type": "markdown",
   "id": "e458ed5b",
   "metadata": {},
   "source": []
  },
  {
   "cell_type": "code",
   "execution_count": null,
   "id": "454ffa12",
   "metadata": {},
   "outputs": [],
   "source": [
    "path_visualizer = 'deep-music-visualizer/'"
   ]
  },
  {
   "cell_type": "markdown",
   "id": "262e97f2",
   "metadata": {},
   "source": []
  },
  {
   "cell_type": "code",
   "execution_count": null,
   "id": "d2fa9bb3",
   "metadata": {},
   "outputs": [],
   "source": [
    "%%capture no-display\n",
    "if os.path.isdir(path_visualizer) == False:\n",
    "    !git clone https://github.com/msieg/deep-music-visualizer.git\n",
    "    \n",
    "    shutil.copy('forestella_all_the_king_s_horses.mp3', path_visualizer)"
   ]
  },
  {
   "cell_type": "markdown",
   "id": "783a62a1",
   "metadata": {},
   "source": [
    "7 → `from PIL import Image`\n",
    "\n",
    "384 → `im=Image.fromarray(out)`"
   ]
  },
  {
   "cell_type": "markdown",
   "id": "9e298ab1",
   "metadata": {},
   "source": []
  },
  {
   "cell_type": "code",
   "execution_count": null,
   "id": "520f3c3f",
   "metadata": {},
   "outputs": [],
   "source": [
    "os.chdir('path_visualizer')"
   ]
  },
  {
   "cell_type": "markdown",
   "id": "1b885762",
   "metadata": {},
   "source": []
  },
  {
   "cell_type": "code",
   "execution_count": null,
   "id": "145ee006",
   "metadata": {
    "scrolled": true
   },
   "outputs": [],
   "source": [
    "%%capture no-display\n",
    "!pip install librosa moviepy scipy torch pytorch-pretrained-biggan Pillow"
   ]
  },
  {
   "cell_type": "markdown",
   "id": "dd642c00",
   "metadata": {},
   "source": [
    "<div style=\"background-color: blue; height: 2px; margin: 10px 0;\"></div>"
   ]
  },
  {
   "cell_type": "markdown",
   "id": "83814e4c",
   "metadata": {},
   "source": []
  },
  {
   "cell_type": "code",
   "execution_count": null,
   "id": "fc5f2066",
   "metadata": {},
   "outputs": [],
   "source": [
    "!python visualize.py --song forestella_all_the_king_s_horses.mp3 --duration 1 --batch_size 1 --frame_length 2048"
   ]
  },
  {
   "cell_type": "code",
   "execution_count": null,
   "id": "8077b5ac",
   "metadata": {},
   "outputs": [],
   "source": []
  },
  {
   "cell_type": "code",
   "execution_count": null,
   "id": "f5f00d50",
   "metadata": {},
   "outputs": [],
   "source": []
  },
  {
   "cell_type": "code",
   "execution_count": null,
   "id": "88b8c939",
   "metadata": {},
   "outputs": [],
   "source": []
  },
  {
   "cell_type": "code",
   "execution_count": null,
   "id": "d94c1aed",
   "metadata": {},
   "outputs": [],
   "source": []
  },
  {
   "cell_type": "code",
   "execution_count": 2,
   "id": "116209e7",
   "metadata": {},
   "outputs": [],
   "source": [
    "path_dreams = 'lucid-sonic-dreams/'"
   ]
  },
  {
   "cell_type": "code",
   "execution_count": 3,
   "id": "425e3238",
   "metadata": {},
   "outputs": [],
   "source": [
    "%%capture no-display\n",
    "if os.path.isdir(path_dreams) == False:\n",
    "    !git clone https://github.com/mikaelalafriz/lucid-sonic-dreams\n",
    "    \n",
    "    shutil.copy('forestella_all_the_king_s_horses.mp3', path_dreams)"
   ]
  },
  {
   "cell_type": "code",
   "execution_count": 4,
   "id": "1b975170",
   "metadata": {},
   "outputs": [],
   "source": [
    "os.chdir(path_dreams)"
   ]
  },
  {
   "cell_type": "code",
   "execution_count": 5,
   "id": "59bdbc3d",
   "metadata": {},
   "outputs": [],
   "source": [
    "%%capture no-display\n",
    "!pip install tensorflow librosa numpy moviepy Pillow tqdm scipy scikit-image pygit2 gdown mega.py requests pandas SoundFile"
   ]
  },
  {
   "cell_type": "code",
   "execution_count": 6,
   "id": "bd440289",
   "metadata": {
    "scrolled": true
   },
   "outputs": [
    {
     "ename": "ModuleNotFoundError",
     "evalue": "No module named 'tensorflow.contrib'",
     "output_type": "error",
     "traceback": [
      "\u001b[1;31m---------------------------------------------------------------------------\u001b[0m",
      "\u001b[1;31mModuleNotFoundError\u001b[0m                       Traceback (most recent call last)",
      "Cell \u001b[1;32mIn[6], line 1\u001b[0m\n\u001b[1;32m----> 1\u001b[0m \u001b[38;5;28;01mfrom\u001b[39;00m \u001b[38;5;21;01mlucidsonicdreams\u001b[39;00m\u001b[38;5;21;01m.\u001b[39;00m\u001b[38;5;21;01mmain\u001b[39;00m \u001b[38;5;28;01mimport\u001b[39;00m LucidSonicDream\n",
      "File \u001b[1;32mD:\\EDUCATION\\01_mai\\term_02\\mai_term02_artificial_intelligence_course\\04_laboratory_work\\lucid-sonic-dreams\\lucidsonicdreams\\__init__.py:1\u001b[0m\n\u001b[1;32m----> 1\u001b[0m \u001b[38;5;28;01mfrom\u001b[39;00m \u001b[38;5;21;01m.\u001b[39;00m\u001b[38;5;21;01mmain\u001b[39;00m \u001b[38;5;28;01mimport\u001b[39;00m \u001b[38;5;241m*\u001b[39m\n",
      "File \u001b[1;32mD:\\EDUCATION\\01_mai\\term_02\\mai_term02_artificial_intelligence_course\\04_laboratory_work\\lucid-sonic-dreams\\lucidsonicdreams\\main.py:33\u001b[0m\n\u001b[0;32m     31\u001b[0m os\u001b[38;5;241m.\u001b[39mchdir(\u001b[38;5;124m'\u001b[39m\u001b[38;5;124mstylegan2\u001b[39m\u001b[38;5;124m'\u001b[39m)\n\u001b[0;32m     32\u001b[0m \u001b[38;5;28;01mimport\u001b[39;00m \u001b[38;5;21;01mdnnlib\u001b[39;00m\n\u001b[1;32m---> 33\u001b[0m \u001b[38;5;28;01mfrom\u001b[39;00m \u001b[38;5;21;01mdnnlib\u001b[39;00m\u001b[38;5;21;01m.\u001b[39;00m\u001b[38;5;21;01mtflib\u001b[39;00m\u001b[38;5;21;01m.\u001b[39;00m\u001b[38;5;21;01mtfutil\u001b[39;00m \u001b[38;5;28;01mimport\u001b[39;00m \u001b[38;5;241m*\u001b[39m \n\u001b[0;32m     34\u001b[0m os\u001b[38;5;241m.\u001b[39mchdir(cwd)\n\u001b[0;32m     37\u001b[0m \u001b[38;5;28;01mdef\u001b[39;00m \u001b[38;5;21mshow_styles\u001b[39m():\n",
      "File \u001b[1;32mD:\\EDUCATION\\01_mai\\term_02\\mai_term02_artificial_intelligence_course\\04_laboratory_work\\lucid-sonic-dreams\\stylegan2\\dnnlib\\tflib\\__init__.py:9\u001b[0m\n\u001b[0;32m      1\u001b[0m \u001b[38;5;66;03m# Copyright (c) 2020, NVIDIA CORPORATION.  All rights reserved.\u001b[39;00m\n\u001b[0;32m      2\u001b[0m \u001b[38;5;66;03m#\u001b[39;00m\n\u001b[0;32m      3\u001b[0m \u001b[38;5;66;03m# NVIDIA CORPORATION and its licensors retain all intellectual property\u001b[39;00m\n\u001b[1;32m   (...)\u001b[0m\n\u001b[0;32m      6\u001b[0m \u001b[38;5;66;03m# distribution of this software and related documentation without an express\u001b[39;00m\n\u001b[0;32m      7\u001b[0m \u001b[38;5;66;03m# license agreement from NVIDIA CORPORATION is strictly prohibited.\u001b[39;00m\n\u001b[1;32m----> 9\u001b[0m \u001b[38;5;28;01mfrom\u001b[39;00m \u001b[38;5;21;01m.\u001b[39;00m \u001b[38;5;28;01mimport\u001b[39;00m autosummary\n\u001b[0;32m     10\u001b[0m \u001b[38;5;28;01mfrom\u001b[39;00m \u001b[38;5;21;01m.\u001b[39;00m \u001b[38;5;28;01mimport\u001b[39;00m network\n\u001b[0;32m     11\u001b[0m \u001b[38;5;28;01mfrom\u001b[39;00m \u001b[38;5;21;01m.\u001b[39;00m \u001b[38;5;28;01mimport\u001b[39;00m optimizer\n",
      "File \u001b[1;32mD:\\EDUCATION\\01_mai\\term_02\\mai_term02_artificial_intelligence_course\\04_laboratory_work\\lucid-sonic-dreams\\stylegan2\\dnnlib\\tflib\\autosummary.py:32\u001b[0m\n\u001b[0;32m     29\u001b[0m \u001b[38;5;28;01mfrom\u001b[39;00m \u001b[38;5;21;01mtensorboard\u001b[39;00m \u001b[38;5;28;01mimport\u001b[39;00m summary \u001b[38;5;28;01mas\u001b[39;00m summary_lib\n\u001b[0;32m     30\u001b[0m \u001b[38;5;28;01mfrom\u001b[39;00m \u001b[38;5;21;01mtensorboard\u001b[39;00m\u001b[38;5;21;01m.\u001b[39;00m\u001b[38;5;21;01mplugins\u001b[39;00m\u001b[38;5;21;01m.\u001b[39;00m\u001b[38;5;21;01mcustom_scalar\u001b[39;00m \u001b[38;5;28;01mimport\u001b[39;00m layout_pb2\n\u001b[1;32m---> 32\u001b[0m \u001b[38;5;28;01mfrom\u001b[39;00m \u001b[38;5;21;01m.\u001b[39;00m \u001b[38;5;28;01mimport\u001b[39;00m tfutil\n\u001b[0;32m     33\u001b[0m \u001b[38;5;28;01mfrom\u001b[39;00m \u001b[38;5;21;01m.\u001b[39;00m\u001b[38;5;21;01mtfutil\u001b[39;00m \u001b[38;5;28;01mimport\u001b[39;00m TfExpression\n\u001b[0;32m     34\u001b[0m \u001b[38;5;28;01mfrom\u001b[39;00m \u001b[38;5;21;01m.\u001b[39;00m\u001b[38;5;21;01mtfutil\u001b[39;00m \u001b[38;5;28;01mimport\u001b[39;00m TfExpressionEx\n",
      "File \u001b[1;32mD:\\EDUCATION\\01_mai\\term_02\\mai_term02_artificial_intelligence_course\\04_laboratory_work\\lucid-sonic-dreams\\stylegan2\\dnnlib\\tflib\\tfutil.py:18\u001b[0m\n\u001b[0;32m     16\u001b[0m \u001b[38;5;28;01mimport\u001b[39;00m \u001b[38;5;21;01mlogging\u001b[39;00m\n\u001b[0;32m     17\u001b[0m logging\u001b[38;5;241m.\u001b[39mgetLogger(\u001b[38;5;124m'\u001b[39m\u001b[38;5;124mtensorflow\u001b[39m\u001b[38;5;124m'\u001b[39m)\u001b[38;5;241m.\u001b[39msetLevel(logging\u001b[38;5;241m.\u001b[39mERROR)\n\u001b[1;32m---> 18\u001b[0m \u001b[38;5;28;01mimport\u001b[39;00m \u001b[38;5;21;01mtensorflow\u001b[39;00m\u001b[38;5;21;01m.\u001b[39;00m\u001b[38;5;21;01mcontrib\u001b[39;00m   \u001b[38;5;66;03m# requires TensorFlow 1.x!\u001b[39;00m\n\u001b[0;32m     19\u001b[0m tf\u001b[38;5;241m.\u001b[39mcontrib \u001b[38;5;241m=\u001b[39m tensorflow\u001b[38;5;241m.\u001b[39mcontrib\n\u001b[0;32m     21\u001b[0m \u001b[38;5;28;01mfrom\u001b[39;00m \u001b[38;5;21;01mtyping\u001b[39;00m \u001b[38;5;28;01mimport\u001b[39;00m Any, Iterable, List, Union\n",
      "\u001b[1;31mModuleNotFoundError\u001b[0m: No module named 'tensorflow.contrib'"
     ]
    }
   ],
   "source": [
    "from lucidsonicdreams.main import LucidSonicDream"
   ]
  },
  {
   "cell_type": "code",
   "execution_count": null,
   "id": "402c4a15",
   "metadata": {},
   "outputs": [],
   "source": []
  },
  {
   "cell_type": "code",
   "execution_count": null,
   "id": "9832df51",
   "metadata": {},
   "outputs": [],
   "source": []
  },
  {
   "cell_type": "code",
   "execution_count": null,
   "id": "6d921e0d",
   "metadata": {},
   "outputs": [],
   "source": []
  },
  {
   "cell_type": "code",
   "execution_count": null,
   "id": "078df818",
   "metadata": {},
   "outputs": [],
   "source": []
  },
  {
   "cell_type": "code",
   "execution_count": null,
   "id": "fb856ee4",
   "metadata": {},
   "outputs": [],
   "source": []
  },
  {
   "cell_type": "code",
   "execution_count": null,
   "id": "1b7b5f12",
   "metadata": {},
   "outputs": [],
   "source": []
  },
  {
   "cell_type": "code",
   "execution_count": null,
   "id": "7be029f5",
   "metadata": {},
   "outputs": [],
   "source": []
  },
  {
   "cell_type": "markdown",
   "id": "93834c37",
   "metadata": {},
   "source": [
    "## 1 Общий вывод"
   ]
  },
  {
   "cell_type": "markdown",
   "id": "a18ea862",
   "metadata": {},
   "source": []
  },
  {
   "cell_type": "markdown",
   "id": "c7446ea5",
   "metadata": {},
   "source": [
    "<div style=\"text-align: center; font-size: 20px; padding: 15px 0;\">\n",
    "    <a href=\"#Содержание\" data-toc-modified-id=\"Содержание\" style=\"text-decoration: none; color: #296eaa; border: 2px dashed #296eaa; opacity: 0.8; border-radius: 3px; padding: 10px 80px;\">\n",
    "        В начало файла ↑\n",
    "    </a>\n",
    "</div>"
   ]
  }
 ],
 "metadata": {
  "kernelspec": {
   "display_name": "Python 3 (ipykernel)",
   "language": "python",
   "name": "python3"
  },
  "language_info": {
   "codemirror_mode": {
    "name": "ipython",
    "version": 3
   },
   "file_extension": ".py",
   "mimetype": "text/x-python",
   "name": "python",
   "nbconvert_exporter": "python",
   "pygments_lexer": "ipython3",
   "version": "3.10.11"
  }
 },
 "nbformat": 4,
 "nbformat_minor": 5
}

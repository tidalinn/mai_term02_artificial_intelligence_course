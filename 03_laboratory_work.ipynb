{
 "cells": [
  {
   "cell_type": "markdown",
   "id": "af0a20c4",
   "metadata": {},
   "source": [
    "<h1>Содержание<span class=\"tocSkip\"></span></h1>\n",
    "<br>\n",
    "<div class=\"toc\">\n",
    "    <ul class=\"toc-item\">\n",
    "        <li>\n",
    "            <span>\n",
    "                <a href=\"#1-Подготовка-окружения\">\n",
    "                    <span class=\"toc-item-num\">1&nbsp;&nbsp;</span>\n",
    "                    Подготовка окружения\n",
    "                </a>\n",
    "            </span>\n",
    "        </li>\n",
    "        <li>\n",
    "            <span>\n",
    "                <a href=\"#2-Подготовка-данных\">\n",
    "                    <span class=\"toc-item-num\">2&nbsp;&nbsp;</span>\n",
    "                    Подготовка данных\n",
    "                </a>\n",
    "            </span>\n",
    "        </li>\n",
    "        <li>\n",
    "            <span>\n",
    "                <a href=\"#3-Обучение-модели\">\n",
    "                    <span class=\"toc-item-num\">3&nbsp;&nbsp;</span>\n",
    "                    Обучение модели\n",
    "                </a>\n",
    "            </span>\n",
    "        </li>\n",
    "        <li>\n",
    "            <span>\n",
    "                <a href=\"#4-Общий-вывод\">\n",
    "                    <span class=\"toc-item-num\">4&nbsp;&nbsp;</span>\n",
    "                    Общий вывод\n",
    "                </a>\n",
    "            </span>\n",
    "        </li>\n",
    "    </ul>\n",
    "</div>"
   ]
  },
  {
   "cell_type": "markdown",
   "id": "45173019",
   "metadata": {},
   "source": [
    "# Лабораторная работа №3: RandomForest "
   ]
  },
  {
   "cell_type": "markdown",
   "id": "27640ff3",
   "metadata": {},
   "source": [
    "**Задача:** построить графики зависимости предсказаний метрики от значения параметров (количество деревьев и максимальная глубина) ансамблевого метода `RandomForestClassifier`.\n",
    "\n",
    "**Источник данных:** датасет `sklearn.make_classification` (многоклассовая классификация)."
   ]
  },
  {
   "cell_type": "markdown",
   "id": "afac082b",
   "metadata": {},
   "source": [
    "<div style=\"background-color: blue; height: 2px; margin: 10px 0;\"></div>"
   ]
  },
  {
   "cell_type": "markdown",
   "id": "9cdc2a9b",
   "metadata": {},
   "source": [
    "## 1 Подготовка окружения"
   ]
  },
  {
   "cell_type": "markdown",
   "id": "782ec788",
   "metadata": {},
   "source": [
    "Импорт библиотек:"
   ]
  },
  {
   "cell_type": "code",
   "execution_count": 1,
   "id": "e9ae2425",
   "metadata": {},
   "outputs": [],
   "source": [
    "import numpy as np\n",
    "import pandas as pd\n",
    "import matplotlib.pyplot as plt\n",
    "\n",
    "from tqdm.notebook import tqdm\n",
    "from typing import Tuple\n",
    "\n",
    "import random\n",
    "\n",
    "import sklearn\n",
    "from sklearn import datasets\n",
    "\n",
    "from sklearn.datasets import make_classification\n",
    "from sklearn.model_selection import train_test_split\n",
    "from sklearn.ensemble import RandomForestClassifier\n",
    "from sklearn.metrics import accuracy_score"
   ]
  },
  {
   "cell_type": "markdown",
   "id": "296d7b41",
   "metadata": {},
   "source": [
    "<div style=\"background-color: blue; height: 2px; margin: 10px 0;\"></div>"
   ]
  },
  {
   "cell_type": "markdown",
   "id": "76332516",
   "metadata": {},
   "source": [
    "## 2 Подготовка данных"
   ]
  },
  {
   "cell_type": "markdown",
   "id": "97974f9b",
   "metadata": {},
   "source": [
    "Задание функции выведения одного экземпляра набора данных:"
   ]
  },
  {
   "cell_type": "code",
   "execution_count": 2,
   "id": "6bb124fe",
   "metadata": {},
   "outputs": [],
   "source": [
    "def print_single_element(features: np.ndarray, target: np.ndarray) -> None:\n",
    "    random_id = random.choice(range(len(features)))\n",
    "    \n",
    "    features = features[random_id]\n",
    "    target = target[random_id]\n",
    "    \n",
    "    print(f'Признаки:\\n{features}\\n')\n",
    "    print(f'Целевой признак: {target}\\n')"
   ]
  },
  {
   "cell_type": "markdown",
   "id": "ee067982",
   "metadata": {},
   "source": [
    "---"
   ]
  },
  {
   "cell_type": "markdown",
   "id": "51e092e1",
   "metadata": {},
   "source": [
    "Задание признаков и целевого признака:"
   ]
  },
  {
   "cell_type": "code",
   "execution_count": 3,
   "id": "fe2724b2",
   "metadata": {},
   "outputs": [],
   "source": [
    "features, target = make_classification(\n",
    "    n_samples=1000, \n",
    "    n_features=10,\n",
    "    n_informative=7,\n",
    "    n_classes=6\n",
    ")"
   ]
  },
  {
   "cell_type": "markdown",
   "id": "e7a43e1a",
   "metadata": {},
   "source": [
    "Выведение на экран одного экземпляра признаков и целевого признака:"
   ]
  },
  {
   "cell_type": "code",
   "execution_count": 4,
   "id": "3e9b6c44",
   "metadata": {},
   "outputs": [
    {
     "name": "stdout",
     "output_type": "stream",
     "text": [
      "Признаки:\n",
      "[ 0.39922492 -0.70592041 -0.37199186  3.21478957  2.02610948  2.96312825\n",
      " -1.51645566 -0.6892114   2.15197741 -0.44857062]\n",
      "\n",
      "Целевой признак: 1\n",
      "\n"
     ]
    }
   ],
   "source": [
    "print_single_element(features, target)"
   ]
  },
  {
   "cell_type": "markdown",
   "id": "a234d294",
   "metadata": {},
   "source": [
    "Выведение на экран соотношения классов в целевом признаке:"
   ]
  },
  {
   "cell_type": "code",
   "execution_count": 5,
   "id": "cd3705b5",
   "metadata": {},
   "outputs": [
    {
     "data": {
      "text/plain": [
       "4    168\n",
       "3    167\n",
       "5    167\n",
       "1    167\n",
       "0    167\n",
       "2    164\n",
       "Name: count, dtype: int64"
      ]
     },
     "execution_count": 5,
     "metadata": {},
     "output_type": "execute_result"
    }
   ],
   "source": [
    "pd.Series(target).value_counts()"
   ]
  },
  {
   "cell_type": "markdown",
   "id": "3668d0e3",
   "metadata": {},
   "source": [
    "Формирование тренировочной и валидационной выборок:"
   ]
  },
  {
   "cell_type": "code",
   "execution_count": 6,
   "id": "0b664663",
   "metadata": {},
   "outputs": [],
   "source": [
    "X_train, X_valid, y_train, y_valid = train_test_split(features, target, test_size=0.25)"
   ]
  },
  {
   "cell_type": "markdown",
   "id": "9e49b424",
   "metadata": {},
   "source": [
    "Выведение на экран тренировочной и валидационной выборок:"
   ]
  },
  {
   "cell_type": "code",
   "execution_count": 7,
   "id": "805940ae",
   "metadata": {},
   "outputs": [
    {
     "name": "stdout",
     "output_type": "stream",
     "text": [
      "Размерность тренировочной выборки: (750, 10)\n",
      "Размерность валидационной выборки: (250, 10)\n"
     ]
    }
   ],
   "source": [
    "print('Размерность тренировочной выборки:', X_train.shape)\n",
    "print('Размерность валидационной выборки:', X_valid.shape)"
   ]
  },
  {
   "cell_type": "markdown",
   "id": "06993a06",
   "metadata": {},
   "source": [
    "<div style=\"background-color: blue; height: 2px; margin: 10px 0;\"></div>"
   ]
  },
  {
   "cell_type": "markdown",
   "id": "9d46c77d",
   "metadata": {},
   "source": [
    "## 3 Обучение модели"
   ]
  },
  {
   "cell_type": "markdown",
   "id": "9d0bab08",
   "metadata": {},
   "source": [
    "Задание функции обучения модели:"
   ]
  },
  {
   "cell_type": "code",
   "execution_count": 8,
   "id": "37d4c77b",
   "metadata": {},
   "outputs": [],
   "source": [
    "def train_model(param: dict,\n",
    "                X_train: np.ndarray,\n",
    "                y_train: np.ndarray,\n",
    "                X_valid: np.ndarray,\n",
    "                y_valid: np.ndarray) -> Tuple[np.array, str]:\n",
    "    \n",
    "    scores = []\n",
    "    param_name = list(param.keys())[0]\n",
    "    param_value = list(param.values())[0]\n",
    "    \n",
    "    for i in tqdm(param_value, 'Training process'):\n",
    "        param = {param_name: i}\n",
    "        \n",
    "        model = RandomForestClassifier(**param, criterion = 'entropy')\n",
    "        model.fit(X_train, y_train)\n",
    "        \n",
    "        y_pred = model.predict(X_valid)\n",
    "        score = accuracy_score(y_valid, y_pred)\n",
    "        \n",
    "        scores.append([score, i])\n",
    "        \n",
    "    return np.array(scores), param_name"
   ]
  },
  {
   "cell_type": "markdown",
   "id": "869e2f28",
   "metadata": {},
   "source": [
    "Задание функции построения графика зависимости метрики от параметра модели:"
   ]
  },
  {
   "cell_type": "code",
   "execution_count": 9,
   "id": "c67c8641",
   "metadata": {},
   "outputs": [],
   "source": [
    "def plot_score_param(scores: np.array, param_name: str) -> None:\n",
    "    font_s = 10\n",
    "    plt.figure(figsize=(6,5))\n",
    "    \n",
    "    plt.title(f'Зависимость предсказаний от параметра {param_name}\\n', fontsize=font_s+2)\n",
    "    \n",
    "    plt.plot(scores[:, 1], scores[:, 0])\n",
    "    \n",
    "    plt.xlabel(f'{param_name}', fontsize=font_s)\n",
    "    plt.ylabel('score', fontsize=font_s)\n",
    "    \n",
    "    plt.grid()\n",
    "    plt.show()"
   ]
  },
  {
   "cell_type": "markdown",
   "id": "33c55578",
   "metadata": {},
   "source": [
    "---"
   ]
  },
  {
   "cell_type": "markdown",
   "id": "d7312aa9",
   "metadata": {},
   "source": [
    "**Параметр `n_estimators`**"
   ]
  },
  {
   "cell_type": "markdown",
   "id": "c839977e",
   "metadata": {},
   "source": [
    "Выведение на экран графика зависимости матрики от параметра:"
   ]
  },
  {
   "cell_type": "code",
   "execution_count": 10,
   "id": "ed87fc30",
   "metadata": {},
   "outputs": [
    {
     "data": {
      "application/vnd.jupyter.widget-view+json": {
       "model_id": "7c6a8d2ecb9345f5b4466eedd049bb4a",
       "version_major": 2,
       "version_minor": 0
      },
      "text/plain": [
       "Training process:   0%|          | 0/49 [00:00<?, ?it/s]"
      ]
     },
     "metadata": {},
     "output_type": "display_data"
    },
    {
     "data": {
      "image/png": "[encoded data removed]",
      "text/plain": [
       "<Figure size 600x500 with 1 Axes>"
      ]
     },
     "metadata": {},
     "output_type": "display_data"
    }
   ],
   "source": [
    "plot_score_param(\n",
    "    *train_model(\n",
    "        {'n_estimators': range(100, 5000, 100)},\n",
    "         X_train, y_train, X_valid, y_valid\n",
    "    )\n",
    ")"
   ]
  },
  {
   "cell_type": "markdown",
   "id": "7a6e1acc",
   "metadata": {},
   "source": [
    ">Чем больше количество деревьев, тем выше качество обучения."
   ]
  },
  {
   "cell_type": "markdown",
   "id": "0879dd6d",
   "metadata": {},
   "source": [
    "---"
   ]
  },
  {
   "cell_type": "markdown",
   "id": "1fb1b868",
   "metadata": {},
   "source": [
    "**Параметр `max_depth`**"
   ]
  },
  {
   "cell_type": "markdown",
   "id": "6282e88b",
   "metadata": {},
   "source": [
    "Выведение на экран графика зависимости метрики от параметра:"
   ]
  },
  {
   "cell_type": "code",
   "execution_count": 11,
   "id": "08e814d3",
   "metadata": {},
   "outputs": [
    {
     "data": {
      "application/vnd.jupyter.widget-view+json": {
       "model_id": "799b3103b1a449f09456d85b4f67676f",
       "version_major": 2,
       "version_minor": 0
      },
      "text/plain": [
       "Training process:   0%|          | 0/29 [00:00<?, ?it/s]"
      ]
     },
     "metadata": {},
     "output_type": "display_data"
    },
    {
     "data": {
      "image/png": "[encoded data removed]",
      "text/plain": [
       "<Figure size 600x500 with 1 Axes>"
      ]
     },
     "metadata": {},
     "output_type": "display_data"
    }
   ],
   "source": [
    "plot_score_param(\n",
    "    *train_model(\n",
    "        {'max_depth': range(1, 30)},\n",
    "         X_train, y_train, X_valid, y_valid\n",
    "    )\n",
    ")"
   ]
  },
  {
   "cell_type": "markdown",
   "id": "38ec0bc4",
   "metadata": {},
   "source": [
    ">Чем глубже деревья, тем лучше качество обучения."
   ]
  },
  {
   "cell_type": "markdown",
   "id": "65af5028",
   "metadata": {},
   "source": [
    "<div style=\"background-color: blue; height: 2px; margin: 10px 0;\"></div>"
   ]
  },
  {
   "cell_type": "markdown",
   "id": "89351d16",
   "metadata": {},
   "source": [
    "## 4 Общий вывод"
   ]
  },
  {
   "cell_type": "markdown",
   "id": "21303060",
   "metadata": {},
   "source": [
    "Была продемонстрирована зависимость значения метрики на валидационной выборке от значения параметров (количество деревьев и максимальная глубина) ансамблевого метода `RandomForestClassifier`."
   ]
  },
  {
   "cell_type": "markdown",
   "id": "3f6e8450",
   "metadata": {},
   "source": [
    "<div style=\"text-align: center; font-size: 20px; padding: 15px 0;\">\n",
    "    <a href=\"#Содержание\" data-toc-modified-id=\"Содержание\" style=\"text-decoration: none; color: #296eaa; border: 2px dashed #296eaa; opacity: 0.8; border-radius: 3px; padding: 10px 80px;\">\n",
    "        В начало файла ↑\n",
    "    </a>\n",
    "</div>"
   ]
  }
 ],
 "metadata": {
  "kernelspec": {
   "display_name": "Python 3 (ipykernel)",
   "language": "python",
   "name": "python3"
  },
  "language_info": {
   "codemirror_mode": {
    "name": "ipython",
    "version": 3
   },
   "file_extension": ".py",
   "mimetype": "text/x-python",
   "name": "python",
   "nbconvert_exporter": "python",
   "pygments_lexer": "ipython3",
   "version": "3.10.11"
  }
 },
 "nbformat": 4,
 "nbformat_minor": 5
}
